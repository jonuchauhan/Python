{
 "cells": [
  {
   "cell_type": "code",
   "execution_count": 1,
   "id": "8407f7c2",
   "metadata": {},
   "outputs": [
    {
     "name": "stdout",
     "output_type": "stream",
     "text": [
      "1\n",
      "2\n",
      "3\n",
      "4\n",
      "5\n",
      "6\n",
      "7\n",
      "hello\n",
      "world\n"
     ]
    }
   ],
   "source": [
    "\"\"\"List are same like array but list can have anytype of data unlike in array we need to store only one type of data\"\"\"\n",
    "a=[1,2,3,4,5,6,7,\"hello\",\"world\"]\n",
    "for i in a:\n",
    "    print(i)"
   ]
  },
  {
   "cell_type": "code",
   "execution_count": 2,
   "id": "bef680f1",
   "metadata": {},
   "outputs": [
    {
     "data": {
      "text/plain": [
       "True"
      ]
     },
     "execution_count": 2,
     "metadata": {},
     "output_type": "execute_result"
    }
   ],
   "source": [
    "#membership in list\n",
    "\"\"\"to check the mebership of an element we use membership operator\"\"\"\n",
    "#return type is boolean\n",
    "\n",
    "\"hello\" in a \n"
   ]
  },
  {
   "cell_type": "code",
   "execution_count": 10,
   "id": "bad1e9ba",
   "metadata": {},
   "outputs": [
    {
     "name": "stdout",
     "output_type": "stream",
     "text": [
      "[1, 2, 3, 4, 5, 6, 7, 'hello', 'world']\n",
      "[10, 2, 3, 4, 5, 6, 7, 'hello', 'world']\n",
      "[10, 2, 3, 4, 5, 6, 7, 'hello', 'world']\n"
     ]
    }
   ],
   "source": [
    "#cloning a list \n",
    "a=[1,2,3,4,5,6,7,\"hello\",\"world\"]\n",
    "b=a\n",
    "print(b)\n",
    "a[0]=10\n",
    "print(a)\n",
    "print(b)\n",
    "#it means b and a refrencing the same memory and any change in list a is same as list b"
   ]
  },
  {
   "cell_type": "code",
   "execution_count": 11,
   "id": "4c312e87",
   "metadata": {},
   "outputs": [
    {
     "name": "stdout",
     "output_type": "stream",
     "text": [
      "[10, 2, 3, 4, 5, 6, 7, 'hello', 'world', 'python']\n"
     ]
    }
   ],
   "source": [
    "#adding elements to a list \n",
    "#append\n",
    "\n",
    "a.append(\"python\")\n",
    "print(a)"
   ]
  },
  {
   "cell_type": "code",
   "execution_count": 33,
   "id": "53ddb5f2",
   "metadata": {},
   "outputs": [
    {
     "data": {
      "text/plain": [
       "[77, 45, 37, 10, 3, 2]"
      ]
     },
     "execution_count": 33,
     "metadata": {},
     "output_type": "execute_result"
    }
   ],
   "source": [
    "#methods to process a list \n",
    "x=[1,2,3,4,5]\n",
    "x.index(1) #to get a index of an element \n",
    "x.insert(8,10) #it will insert 10 at 8 location\n",
    "x.remove(2)\n",
    "y=[10,2,3,45,37,77]\n",
    "y.sort() #sorting of a list\n",
    "y\n",
    "y.sort(reverse=True) # sorting in descending order\n",
    "y"
   ]
  },
  {
   "cell_type": "code",
   "execution_count": 37,
   "id": "e1b88b54",
   "metadata": {},
   "outputs": [
    {
     "name": "stdout",
     "output_type": "stream",
     "text": [
      "[2, 3]\n"
     ]
    }
   ],
   "source": [
    "#finding the common element in two list \n",
    "a=[1,2,3,4,5]\n",
    "b=[2,3,10,9,7]\n",
    "#set has a intersection method which provides the unique element\n",
    "#step-1 :- convert a list to set and then apply intersection and then convert to list\n",
    "sa=set(a)\n",
    "sb=set(b)\n",
    "x=sa.intersection(sb)\n",
    "print(list(x))"
   ]
  },
  {
   "cell_type": "code",
   "execution_count": 39,
   "id": "699186a2",
   "metadata": {},
   "outputs": [
    {
     "name": "stdout",
     "output_type": "stream",
     "text": [
      "7\n",
      "8\n",
      "9\n"
     ]
    }
   ],
   "source": [
    "#nested list \n",
    "a=[1,2,3,4,5,[7,8,9]]\n",
    "#acessing the nested list\n",
    "\n",
    "for i in a[5]:\n",
    "    print(i)\n",
    "\n"
   ]
  }
 ],
 "metadata": {
  "kernelspec": {
   "display_name": "Python 3",
   "language": "python",
   "name": "python3"
  },
  "language_info": {
   "codemirror_mode": {
    "name": "ipython",
    "version": 3
   },
   "file_extension": ".py",
   "mimetype": "text/x-python",
   "name": "python",
   "nbconvert_exporter": "python",
   "pygments_lexer": "ipython3",
   "version": "3.8.8"
  }
 },
 "nbformat": 4,
 "nbformat_minor": 5
}
