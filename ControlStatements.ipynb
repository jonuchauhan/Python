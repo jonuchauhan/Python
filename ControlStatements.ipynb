{
 "cells": [
  {
   "cell_type": "markdown",
   "id": "00a02cee",
   "metadata": {},
   "source": [
    " <strong>Control statements are statements which control or change the flow of the execution of program\n",
    "   Below are the control statements in python\n",
    "  <br> if\n",
    "     <br> if else\n",
    "     <br> if elif else\n",
    "     <br> while \n",
    "    <br>  for loop\n",
    "    <br>  else suite\n",
    "     <br> break statement\n",
    "     <br> continue statement\n",
    "     <br> pass statment\n",
    "     <br> assert statement\n",
    "     <br> return statement</strong>\n"
   ]
  },
  {
   "cell_type": "code",
   "execution_count": 5,
   "id": "5d858e84",
   "metadata": {},
   "outputs": [
    {
     "name": "stdout",
     "output_type": "stream",
     "text": [
      "value of x is 2\n"
     ]
    }
   ],
   "source": [
    "\"\"\"The statement with same indentation belong to the same group called a suite \"\"\"\n",
    "#if statement\n",
    "\n",
    "x=2\n",
    "\n",
    "if x==2:\n",
    "    print(f\"value of x is {x}\")\n"
   ]
  },
  {
   "cell_type": "code",
   "execution_count": 7,
   "id": "595d34f7",
   "metadata": {},
   "outputs": [
    {
     "name": "stdout",
     "output_type": "stream",
     "text": [
      "number is positive\n"
     ]
    }
   ],
   "source": [
    "#if else satement\n",
    "\n",
    "x=3\n",
    "if x>=0:\n",
    "    print(\"number is positive\")\n",
    "else:\n",
    "    print(\"number is negative\")"
   ]
  },
  {
   "cell_type": "code",
   "execution_count": 14,
   "id": "00ac5766",
   "metadata": {},
   "outputs": [
    {
     "name": "stdout",
     "output_type": "stream",
     "text": [
      "enter any number between 0 and 10 \n",
      "5\n",
      "Number entered is 5\n"
     ]
    }
   ],
   "source": [
    "#if elif else satement\n",
    "x=int(input(\"enter any number between 0 and 10 \\n\"))\n",
    "\n",
    "if x==0:\n",
    "    print(\"Number entered is 0\")\n",
    "elif x==1:\n",
    "    print(\"Number entered is 1\")  \n",
    "elif x==2:\n",
    "    print(\"Number entered is 2\")\n",
    "elif x==3:\n",
    "    print(\"Number entered is 3\")  \n",
    "elif x==4:\n",
    "    print(\"Number entered is 4\")\n",
    "elif x==5:\n",
    "    print(\"Number entered is 5\")  \n",
    "elif x==6:\n",
    "    print(\"Number entered is 6\")\n",
    "elif x==7:\n",
    "    print(\"Number entered is 7\")\n",
    "elif x==8:\n",
    "    print(\"Number entered is 8\")  \n",
    "elif x==9:\n",
    "    print(\"Number entered is 9\")  \n",
    "elif x==10:\n",
    "    print(\"Number entered is 10\")\n",
    "else:\n",
    "    print(\"Number is not between 0 and 10\")\n"
   ]
  },
  {
   "cell_type": "code",
   "execution_count": 19,
   "id": "96c7f53e",
   "metadata": {},
   "outputs": [
    {
     "name": "stdout",
     "output_type": "stream",
     "text": [
      "0\n",
      "end\n",
      "1\n",
      "end\n",
      "2\n",
      "end\n",
      "3\n",
      "end\n",
      "4\n",
      "end\n",
      "5\n",
      "end\n",
      "6\n",
      "end\n",
      "7\n",
      "end\n",
      "8\n",
      "end\n",
      "9\n",
      "end\n",
      "10\n",
      "end\n"
     ]
    }
   ],
   "source": [
    "#while loop\n",
    "\"\"\"Loops are used when we need to execute certain statements repeatedly n nummber of times\"\"\"\n",
    "\n",
    "\"\"\"All the statements are executed top to bottom one by one \n",
    "   in the below example first value is initialized to 0 and while\n",
    "   loop checks if the number is less than and equals to 10 and if it is \n",
    "   then it will move forward to next step and executes print statement and \n",
    "   after that it will execute x=x+1 and then again it will check value of x and follow the same steps\n",
    "   \"\"\"\n",
    "x=0\n",
    "\n",
    "while(x<=10):\n",
    "    print(x)\n",
    "    x=x+1\n",
    "    print(\"end\")\n",
    "\n"
   ]
  },
  {
   "cell_type": "code",
   "execution_count": 20,
   "id": "934037ef",
   "metadata": {},
   "outputs": [
    {
     "name": "stdout",
     "output_type": "stream",
     "text": [
      "h\n",
      "e\n",
      "l\n",
      "l\n",
      "o\n",
      " \n",
      "w\n",
      "o\n",
      "r\n",
      "l\n",
      "d\n"
     ]
    }
   ],
   "source": [
    "#for loop \n",
    "\"\"\"for loop is useful to iterate ove the elements of a sequence\"\"\"\n",
    "x=\"hello world\"\n",
    "\n",
    "for char in x:\n",
    "    print(char)"
   ]
  },
  {
   "cell_type": "code",
   "execution_count": 22,
   "id": "5ddc578d",
   "metadata": {},
   "outputs": [
    {
     "name": "stdout",
     "output_type": "stream",
     "text": [
      "if block---h\n",
      "else block---e\n",
      "else block---l\n",
      "else block---l\n",
      "else block---o\n",
      "else block--- \n",
      "else block---w\n",
      "else block---o\n",
      "else block---r\n",
      "else block---l\n",
      "else block---d\n"
     ]
    }
   ],
   "source": [
    "#else suit \n",
    "\"\"\"we can use else statements with loops \"\"\"\n",
    "\n",
    "x=\"hello world\"\n",
    "\n",
    "for char in x:\n",
    "    if char=='h':\n",
    "        print(\"if block\"+\"---\" + char)\n",
    "    else:\n",
    "        print(\"else block\"+\"---\"+char)\n",
    "    \n",
    "\n"
   ]
  },
  {
   "cell_type": "code",
   "execution_count": 24,
   "id": "71caa6a0",
   "metadata": {},
   "outputs": [
    {
     "name": "stdout",
     "output_type": "stream",
     "text": [
      "0\n",
      "1\n",
      "2\n",
      "3\n",
      "4\n",
      "5\n",
      "6\n",
      "7\n",
      "8\n",
      "9\n"
     ]
    }
   ],
   "source": [
    "#break statements are used to break the loop generaly it is used when certain condition is met \n",
    "\n",
    "\"\"\"This statement will print till 9 as there is a break statement when i==9\"\"\"\n",
    "for i in range(0,10):\n",
    "    print(i)\n",
    "    if i==9:\n",
    "        break\n",
    "        "
   ]
  },
  {
   "cell_type": "code",
   "execution_count": 26,
   "id": "60fe22ed",
   "metadata": {},
   "outputs": [
    {
     "name": "stdout",
     "output_type": "stream",
     "text": [
      "1\n",
      "2\n",
      "3\n",
      "4\n",
      "5\n"
     ]
    }
   ],
   "source": [
    "#continue statement\n",
    "\"\"\"continue statement is used in loop to go back to the beginning of the loop\"\"\"\n",
    "x=0\n",
    "while x<10:\n",
    "    x=x+1\n",
    "    if x>5:\n",
    "        continue  #when value of x is greater than 5 then it will re route to the beginning of the loop\n",
    "    print(x)"
   ]
  },
  {
   "cell_type": "code",
   "execution_count": 27,
   "id": "8ead5485",
   "metadata": {},
   "outputs": [],
   "source": [
    "#pass statement\n",
    "\n",
    "\"\"\"pass statement is used to to do nothing\"\"\"\n",
    "x=\"hello\"\n",
    "\n",
    "for char in x:\n",
    "    pass # pass staement wil do nothing it's used to write code after completing some other parts first"
   ]
  },
  {
   "cell_type": "code",
   "execution_count": 35,
   "id": "10d13202",
   "metadata": {},
   "outputs": [
    {
     "name": "stdout",
     "output_type": "stream",
     "text": [
      "Enter any positive number :   4\n",
      "4\n"
     ]
    }
   ],
   "source": [
    "#assert statement \n",
    "\"\"\"assert statement is useful to check if a particular condition is fullfieed or not\"\"\"\n",
    "x=int(input(\"Enter any positive number :   \"))\n",
    "\n",
    "assert x>0, \"Enter only positive numbers\"#it will check if x >0 and if it is true then next statement will be executed\n",
    "                                         #else it will throw an error with the specified  message\n",
    "print(x)"
   ]
  },
  {
   "cell_type": "code",
   "execution_count": 39,
   "id": "36ce1ce7",
   "metadata": {},
   "outputs": [
    {
     "name": "stdout",
     "output_type": "stream",
     "text": [
      "30\n"
     ]
    }
   ],
   "source": [
    "#return statement \n",
    "\n",
    "\"\"\"return statement is used to return the result and it is used in functions \"\"\"\n",
    "\n",
    "def sum(a=0,b=0):\n",
    "    c=a+b\n",
    "    return c #it will return the value of c\n",
    "\n",
    "print(sum(10,20))"
   ]
  },
  {
   "cell_type": "code",
   "execution_count": null,
   "id": "4fde7d3b",
   "metadata": {},
   "outputs": [],
   "source": []
  }
 ],
 "metadata": {
  "kernelspec": {
   "display_name": "Python 3",
   "language": "python",
   "name": "python3"
  },
  "language_info": {
   "codemirror_mode": {
    "name": "ipython",
    "version": 3
   },
   "file_extension": ".py",
   "mimetype": "text/x-python",
   "name": "python",
   "nbconvert_exporter": "python",
   "pygments_lexer": "ipython3",
   "version": "3.8.8"
  }
 },
 "nbformat": 4,
 "nbformat_minor": 5
}
