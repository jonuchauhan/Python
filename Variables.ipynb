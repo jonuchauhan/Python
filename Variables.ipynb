{
 "cells": [
  {
   "cell_type": "code",
   "execution_count": 3,
   "metadata": {},
   "outputs": [
    {
     "name": "stdout",
     "output_type": "stream",
     "text": [
      "The value of a  is 10\n",
      "the value of b is 20\n"
     ]
    }
   ],
   "source": [
    "\"\"\"Built in datatypes in python \n",
    "\n",
    "1 None \n",
    "2 Mumeric Types\n",
    "3 Sequence \n",
    "4 Sets \n",
    "5 Mappings\n",
    "\n",
    "\n",
    "None \n",
    "\n",
    "None datatype reprersents an object that does not contains any value Like in java it is called null\n",
    ".In boolean expression none is retreated as false \n",
    "\n",
    "Numeric \n",
    "Numeric has there subtypes \n",
    "\n",
    "1 Int  :- values without decimal or fractions part and in python there is no limit for int values\n",
    "2 Float :- values with decimal or fractions \n",
    "3 Complex :- used to define complex numbers like a+bj \n",
    "\"\"\""
   ]
  },
  {
   "attachments": {},
   "cell_type": "markdown",
   "metadata": {},
   "source": [
    "Integer"
   ]
  },
  {
   "cell_type": "code",
   "execution_count": null,
   "metadata": {},
   "outputs": [],
   "source": [
    "# Integer\n",
    "a = 10\n",
    "b = 20\n",
    "print(f\"The value of a  is {a}\")\n",
    "print(f\"the value of b is {b}\")\n",
    "\n",
    "\"\"\"in python the value is created first and then its tag by the name \n",
    "for example here first 10 is created and then its tagged by a name \"a\" \n",
    "\"\"\"\n",
    "\n",
    "\"\"\"python treats the values as object for example if we change the value \n",
    "of a then it is tagged to new value and old value which is 10 becomes\n",
    " unreferenced and collected by the garbage collector\"\"\"\n",
    "\n",
    "\"\"\"here a new tag is created and it refers to the same value hence there are\n",
    " two tags which share the same value,it means python is using memory efficiently\"\"\"\n",
    "b = a\n"
   ]
  },
  {
   "cell_type": "code",
   "execution_count": 5,
   "metadata": {},
   "outputs": [
    {
     "name": "stdout",
     "output_type": "stream",
     "text": [
      "gpa is 3.2\n",
      "gpa is 2.5\n"
     ]
    }
   ],
   "source": [
    "#Float\n",
    "gpa=3.2\n",
    "distance=2.5\n",
    "print(f'gpa is {gpa}')\n",
    "print(f'gpa is {distance}')\n"
   ]
  },
  {
   "cell_type": "code",
   "execution_count": 8,
   "metadata": {},
   "outputs": [
    {
     "name": "stdout",
     "output_type": "stream",
     "text": [
      "value of x is 2500.0\n"
     ]
    }
   ],
   "source": [
    "x=2.5e3 # it means 2.5 * 10^3  , they are also treated as float datatypes\n",
    "print(f\"value of x is {x}\")"
   ]
  },
  {
   "cell_type": "code",
   "execution_count": 9,
   "metadata": {},
   "outputs": [
    {
     "name": "stdout",
     "output_type": "stream",
     "text": [
      "the value of a+b is (5+7j)\n"
     ]
    }
   ],
   "source": [
    "#complex \n",
    "a=2+3j\n",
    "b=3+4j\n",
    "print(f\"the value of a+b is {a+b}\")"
   ]
  },
  {
   "attachments": {},
   "cell_type": "markdown",
   "metadata": {},
   "source": [
    "Sequence \n",
    "a sequence represnts a group of elements or items for example a group of integer numbers will form a sequence there are six types of sequences \n",
    "\n",
    "1 str\n",
    "2 bytes\n",
    "3 bytesarray\n",
    "4 list\n",
    "5 tuple\n",
    "6 range"
   ]
  },
  {
   "cell_type": "code",
   "execution_count": 4,
   "metadata": {},
   "outputs": [
    {
     "name": "stdout",
     "output_type": "stream",
     "text": [
      "hello python\n"
     ]
    }
   ],
   "source": [
    "#string\n",
    "a=\"hello\"\n",
    "b=\"python\"\n",
    "print(a+\" \"+b)"
   ]
  },
  {
   "cell_type": "code",
   "execution_count": 17,
   "metadata": {},
   "outputs": [
    {
     "name": "stdout",
     "output_type": "stream",
     "text": [
      "b'\\x01\\x02\\x03\\x04\\x05\\x06\\x07\\xff'\n"
     ]
    }
   ],
   "source": [
    "#bytes \n",
    "\"\"\"bytes represents group of byte numbers just like an array but it contains only values between 0 to 255 \"\"\"\n",
    "a=bytes([1,2,3,4,5,6,7,255])\n",
    "print(a)\n",
    "\"we cannot modify the values of byte array\""
   ]
  },
  {
   "cell_type": "code",
   "execution_count": 20,
   "metadata": {},
   "outputs": [
    {
     "name": "stdout",
     "output_type": "stream",
     "text": [
      "bytearray(b'\\x01\\x02\\x03\\x04\\x05\\x06\\x07\\xff')\n",
      "bytearray(b'\\xe9\\x02\\x03\\x04\\x05\\x06\\x07\\xff')\n"
     ]
    }
   ],
   "source": [
    "#bytearray \n",
    "\"\"\"bytearray represents group of byte numbers just like an array but it allows user to modify the values  \"\"\"\n",
    "a=bytearray([1,2,3,4,5,6,7,255])\n",
    "print(a)\n",
    "a[0]=233 # it is allowing user to modify the values\n",
    "print(a)"
   ]
  },
  {
   "cell_type": "code",
   "execution_count": 21,
   "metadata": {},
   "outputs": [
    {
     "name": "stdout",
     "output_type": "stream",
     "text": [
      "2\n",
      "3\n",
      "4\n",
      "5\n",
      "6\n",
      "hello\n"
     ]
    }
   ],
   "source": [
    "#list\n",
    "\"\"\"list is a group of elements, there is no restrictions in context of storing only certain types of\n",
    " data we can store anytype of data in list and it can grow dynamically there is no restrictions with size of a list as compared tp array in java\"\"\"\n",
    "\n",
    "a=[2,3,4,5,6,'hello']\n",
    "for i in a:\n",
    "    print(i)"
   ]
  },
  {
   "cell_type": "code",
   "execution_count": 22,
   "metadata": {},
   "outputs": [
    {
     "name": "stdout",
     "output_type": "stream",
     "text": [
      "2\n",
      "3\n",
      "4\n",
      "5\n",
      "6\n",
      "hello\n"
     ]
    }
   ],
   "source": [
    "#tuples \n",
    "\"\"\"tuple is similiar to list datatypes but it cannot be modified like list\"\"\"\n",
    "a=(2,3,4,5,6,'hello')\n",
    "for i in a:\n",
    "    print(i)"
   ]
  },
  {
   "cell_type": "code",
   "execution_count": 25,
   "metadata": {},
   "outputs": [
    {
     "name": "stdout",
     "output_type": "stream",
     "text": [
      "range(0, 10)\n",
      "0\n",
      "1\n",
      "2\n",
      "3\n",
      "4\n",
      "5\n",
      "6\n",
      "7\n",
      "8\n",
      "9\n"
     ]
    }
   ],
   "source": [
    "#range\n",
    "\"\"\"range datatype is a sequence of numbers and it cannot be modfied\"\"\"\n",
    "a=range(10)\n",
    "print(a)\n",
    "\n",
    "for i in a:\n",
    "    print(i)"
   ]
  },
  {
   "cell_type": "code",
   "execution_count": 38,
   "metadata": {},
   "outputs": [
    {
     "name": "stdout",
     "output_type": "stream",
     "text": [
      "{'h', 'o', 'e', 'l'}\n",
      "{'h', 'z', 'e', 'l', 'o'}\n",
      "frozenset({'h', 'o', 'e', 'l'})\n"
     ]
    }
   ],
   "source": [
    "#set datatype \n",
    "\n",
    "\"\"\"a set is a unordered collection of elements and sets does not accept duplicate\n",
    "   there are two types of one is set and another is frozenset (as name suggests it cannot be modified)\n",
    "\"\"\"\n",
    "a=\"hello\"\n",
    "print(set(a)) # as it stores only one l as it won't accept duplicate\n",
    "\n",
    "a=set(\"hello\")\n",
    "a.update(\"z\")\n",
    "\n",
    "print(a)\n",
    "\n",
    "\n",
    "b=frozenset(\"hello\")\n",
    "print(b)"
   ]
  },
  {
   "cell_type": "code",
   "execution_count": 6,
   "metadata": {},
   "outputs": [
    {
     "name": "stdout",
     "output_type": "stream",
     "text": [
      "The value of is_checked flag is True\n",
      "value of is healthy flag is False\n"
     ]
    }
   ],
   "source": [
    "#boolean\n",
    "\n",
    "is_checked=True\n",
    "is_healthy=False\n",
    "print(f'The value of is_checked flag is {is_checked}')\n",
    "print(f'value of is healthy flag is {is_healthy}')\n",
    "\n"
   ]
  },
  {
   "cell_type": "code",
   "execution_count": 41,
   "metadata": {},
   "outputs": [
    {
     "name": "stdout",
     "output_type": "stream",
     "text": [
      "('x', 10)\n",
      "('y', 20)\n"
     ]
    }
   ],
   "source": [
    "#mapping type \n",
    "\"\"\"a map reresents a group of values in form of key and value and in python it is called dictonary\"\"\"\n",
    "\n",
    "a={\"x\":10,\"y\":20}\n",
    "\n",
    "for i in a.items():\n",
    "    print(i)"
   ]
  }
 ],
 "metadata": {
  "kernelspec": {
   "display_name": "Python 3",
   "language": "python",
   "name": "python3"
  },
  "language_info": {
   "codemirror_mode": {
    "name": "ipython",
    "version": 3
   },
   "file_extension": ".py",
   "mimetype": "text/x-python",
   "name": "python",
   "nbconvert_exporter": "python",
   "pygments_lexer": "ipython3",
   "version": "3.9.13"
  },
  "orig_nbformat": 4,
  "vscode": {
   "interpreter": {
    "hash": "055caf5bf65877faa9fa58ce06dc31e0c822bddf0f1710b10741c2b715bb166f"
   }
  }
 },
 "nbformat": 4,
 "nbformat_minor": 2
}
