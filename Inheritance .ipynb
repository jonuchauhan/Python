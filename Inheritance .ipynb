{
 "cells": [
  {
   "cell_type": "code",
   "execution_count": 12,
   "id": "970e82f9",
   "metadata": {},
   "outputs": [
    {
     "name": "stdout",
     "output_type": "stream",
     "text": [
      "this rabbit is running\n",
      "this animal is eating\n",
      "this fish is swimming\n"
     ]
    }
   ],
   "source": [
    "\"\"\"One of the pillar of oops is base Inheritance \n",
    "   when child class is derived from parent class and\n",
    "   adopts all the attributes of parent class\"\"\"\n",
    "\n",
    "class Animal:\n",
    "    def eat(self):\n",
    "        print(\"this animal is eating\")\n",
    "    def slumber(self):\n",
    "        print(\"this animal is sleeping\")\n",
    "class Rabbit(Animal):\n",
    "    def run(self):\n",
    "        print(\"this rabbit is running\")\n",
    "class Fish(Animal):\n",
    "    def swim(self):\n",
    "        print(\"this fish is swimming\")\n",
    "        \n",
    "rabbit=Rabbit()\n",
    "fish=Fish()\n",
    "rabbit.run()\n",
    "rabbit.eat()\n",
    "fish.swim()"
   ]
  },
  {
   "cell_type": "code",
   "execution_count": 9,
   "id": "a4b06d31",
   "metadata": {},
   "outputs": [
    {
     "name": "stdout",
     "output_type": "stream",
     "text": [
      "I am pug\n",
      "this pug is walking\n",
      "I am animal\n",
      "I am eating\n",
      "this dog is barking\n"
     ]
    }
   ],
   "source": [
    "\"\"\"Multilevel inheritance\"\"\"\n",
    "class Organism:\n",
    "    def whoami(self):\n",
    "        print(\"I am organism\")\n",
    "class Animal(Organism):\n",
    "    def whoami(self):\n",
    "        print(\"I am animal\")\n",
    "    def eat(self):\n",
    "        print(\"I am eating\")\n",
    "class Dog(Animal):\n",
    "    def whoami(self):\n",
    "        print(\"I am dog\")\n",
    "    def bark(self):\n",
    "        print(\"this dog is barking\")\n",
    "class Pug(Dog):\n",
    "    def whoami(self):\n",
    "        print(\"I am pug\")\n",
    "    def walk(self):\n",
    "        print(\"this pug is walking\")\n",
    "\n",
    "pug=Pug()\n",
    "pug.whoami()\n",
    "pug.walk()\n",
    "animal=Animal()\n",
    "animal.whoami()\n",
    "animal.eat() \n",
    "pug.bark()#bark is present in dog class but it is inherited from parent class as Dog is parent class for pug"
   ]
  },
  {
   "cell_type": "code",
   "execution_count": 11,
   "id": "8666b2f5",
   "metadata": {},
   "outputs": [
    {
     "name": "stdout",
     "output_type": "stream",
     "text": [
      "I am fish\n",
      "this animal flees\n",
      "this animal is hunting\n"
     ]
    }
   ],
   "source": [
    "\"\"\"Multiple inheritance\"\"\"\n",
    "class Prey:\n",
    "    def flee(self):\n",
    "        print(\"this animal flees\")\n",
    "class Predator:\n",
    "    def hunt(self):\n",
    "        print(\"this animal is hunting\")\n",
    "class rabbit(Prey):\n",
    "    def whoami(self):\n",
    "        print(\"I am rabbit\")\n",
    "class Fish(Prey,Predator):\n",
    "    def whoami(self):\n",
    "        print(\"I am fish\") #this method is overrided , it is also present in parent class but it is overrided in child class \n",
    "\n",
    "fish=Fish()\n",
    "\n",
    "fish.whoami()\n",
    "fish.flee()\n",
    "fish.hunt()"
   ]
  },
  {
   "cell_type": "code",
   "execution_count": 25,
   "id": "efae1a34",
   "metadata": {},
   "outputs": [
    {
     "name": "stdout",
     "output_type": "stream",
     "text": [
      "volumne of cube is  6000\n"
     ]
    }
   ],
   "source": [
    "\"\"\"Super keyword\"\"\"\n",
    "\n",
    "class Rectangle:\n",
    "    def __init__(self,length,breadth):\n",
    "        self.length=length\n",
    "        self.breadth=breadth\n",
    "        \n",
    "class Square(Rectangle):\n",
    "    def __init__(self,length,breadth):\n",
    "        super().__init__(length,breadth)\n",
    "        \n",
    "class Cube(Rectangle):\n",
    "    def __init__(self,length,breadth,height):\n",
    "        super().__init__(length,breadth)\n",
    "        self.height=height\n",
    "        \n",
    "    def volume(self):\n",
    "         print(f'volumne of cube is  {self.length*self.breadth*self.height}')\n",
    "\n",
    "cube =Cube(10,20,30)\n",
    "cube.volume()"
   ]
  },
  {
   "cell_type": "code",
   "execution_count": 23,
   "id": "edd0d6b4",
   "metadata": {},
   "outputs": [
    {
     "name": "stdout",
     "output_type": "stream",
     "text": [
      "drive\n"
     ]
    }
   ],
   "source": [
    "\"\"\"Abstract class\"\"\"\n",
    "#class which has one or more abstract method are called abstract classes \n",
    "#abstract method is method which has declaration but does not have implementation\n",
    "\n",
    "from abc import ABC, abstractmethod\n",
    "\n",
    "class Vehicle(ABC):\n",
    "    \n",
    "    @abstractmethod\n",
    "    def go(self):\n",
    "        pass\n",
    "\n",
    "class Car(Vehicle):\n",
    "    def go(self):\n",
    "        print(\"drive\")\n",
    "\n",
    "class Motorcycle(Vehicle):\n",
    "    pass\n",
    "\n",
    "car =Car() #we can't intitate a object which is dervied from abstract class without overiding abstract method\n",
    "car.go()"
   ]
  },
  {
   "cell_type": "code",
   "execution_count": null,
   "id": "bea25b53",
   "metadata": {},
   "outputs": [],
   "source": []
  }
 ],
 "metadata": {
  "kernelspec": {
   "display_name": "Python 3",
   "language": "python",
   "name": "python3"
  },
  "language_info": {
   "codemirror_mode": {
    "name": "ipython",
    "version": 3
   },
   "file_extension": ".py",
   "mimetype": "text/x-python",
   "name": "python",
   "nbconvert_exporter": "python",
   "pygments_lexer": "ipython3",
   "version": "3.8.8"
  }
 },
 "nbformat": 4,
 "nbformat_minor": 5
}
