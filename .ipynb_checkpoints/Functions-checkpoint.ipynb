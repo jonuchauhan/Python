{
 "cells": [
  {
   "cell_type": "code",
   "execution_count": 2,
   "id": "b4b161a7",
   "metadata": {},
   "outputs": [
    {
     "data": {
      "text/plain": [
       "30"
      ]
     },
     "execution_count": 2,
     "metadata": {},
     "output_type": "execute_result"
    }
   ],
   "source": [
    "\"\"\"Functions ae group of statements used to do a certain \n",
    "task and can be used multiple times without writing the same code again and again\"\"\"\n",
    "\n",
    "def sum( x ,  y):\n",
    "    \"\"\"return the sum\n",
    "       Keyword arguments:\n",
    "       x :- first int input\n",
    "       y :- second int input \n",
    "    \"\"\"\n",
    "    return x+y\n",
    "\n",
    "sum(10,20)\n"
   ]
  },
  {
   "cell_type": "code",
   "execution_count": 51,
   "id": "a7b505e2",
   "metadata": {},
   "outputs": [
    {
     "name": "stdout",
     "output_type": "stream",
     "text": [
      "Given number is even\n"
     ]
    }
   ],
   "source": [
    "def even_odd(number):\n",
    "    \"\"\"This function is used to check the given number is even or odd\n",
    "       params:\n",
    "       number any integer\n",
    "    \"\"\"\n",
    "    assert number>0,\"Please enter number greater than 0\"\n",
    "    \n",
    "    if (number%2==0):\n",
    "        print(\"Given number is even\")\n",
    "    else:\n",
    "        print(\"Given number is odd\")\n",
    "\n",
    "even_odd(10)"
   ]
  },
  {
   "cell_type": "code",
   "execution_count": 33,
   "id": "89b75548",
   "metadata": {},
   "outputs": [
    {
     "name": "stdout",
     "output_type": "stream",
     "text": [
      "15 140720599869680\n",
      "10 140720599869520\n"
     ]
    }
   ],
   "source": [
    "def modify(num=15):\n",
    "    \"\"\"this function is used modify the value of \n",
    "      given number and print value and its id\n",
    "      params:\n",
    "         number :- any integer number\n",
    "    \"\"\"\n",
    "    print(num,id(num)) \n",
    "\n",
    "modify()   \n",
    "modify(10)"
   ]
  },
  {
   "cell_type": "code",
   "execution_count": 41,
   "id": "bb5afbfa",
   "metadata": {},
   "outputs": [
    {
     "name": "stdout",
     "output_type": "stream",
     "text": [
      "150\n",
      "30\n",
      "60\n",
      "10\n"
     ]
    }
   ],
   "source": [
    "\"\"\"variable length arguments\"\"\"\n",
    "def variable_sum(*args):\n",
    "    \"\"\"returns the sum of given arguments\"\"\"\n",
    "    sum=0\n",
    "    for i in args:\n",
    "        sum=sum+i\n",
    "    return sum\n",
    "\n",
    "print(variable_sum(10,20,30,30,60))\n",
    "print(variable_sum(10,20))\n",
    "print(variable_sum(10,20,30))\n",
    "print(variable_sum(10))"
   ]
  },
  {
   "cell_type": "code",
   "execution_count": 44,
   "id": "858049eb",
   "metadata": {},
   "outputs": [
    {
     "name": "stdout",
     "output_type": "stream",
     "text": [
      "name :- steve\n",
      "name :- smith\n",
      "name :- karan\n",
      "name :- varun\n",
      "name :- karun\n",
      "name :- verma\n",
      "name :- sharma\n",
      "name :- sam\n",
      "name :- nick\n",
      "name :- coffer\n",
      "name :- rabbit\n"
     ]
    }
   ],
   "source": [
    "\"\"\"variable length arguments\"\"\"\n",
    "def variable_names(*names):\n",
    "    \"\"\"dispays the names given in arguments\n",
    "       it is not necessary to use args keyword only \n",
    "       * is mandatory which signifies the given argument is Non Keyword Arguments\n",
    "    \"\"\"\n",
    "    \n",
    "    for name in names:\n",
    "        print(f'name :- {name}' )\n",
    "    \n",
    "\n",
    "variable_names(\"steve\",\"smith\",\"karan\",\"varun\",\"karun\")\n",
    "variable_names(\"verma\",\"sharma\")\n",
    "variable_names(\"sam\",\"nick\",\"coffer\")\n",
    "variable_names(\"rabbit\")"
   ]
  },
  {
   "cell_type": "code",
   "execution_count": 52,
   "id": "fc4efff5",
   "metadata": {},
   "outputs": [
    {
     "name": "stdout",
     "output_type": "stream",
     "text": [
      "name steve\n",
      "salary 30000\n",
      "name steve\n",
      "salary 30000\n",
      "dept HR\n"
     ]
    }
   ],
   "source": [
    "def variable_keywords(**kwargs):\n",
    "    \"\"\"takes the variable length input in form of key and values\n",
    "    \"\"\"\n",
    "    for x,y in kwargs.items():\n",
    "        print(x,y)\n",
    "variable_keywords(name='steve',salary=30000)\n",
    "variable_keywords(name='steve',salary=30000,dept=\"HR\")"
   ]
  },
  {
   "cell_type": "code",
   "execution_count": null,
   "id": "0e12062c",
   "metadata": {},
   "outputs": [],
   "source": []
  }
 ],
 "metadata": {
  "kernelspec": {
   "display_name": "Python 3",
   "language": "python",
   "name": "python3"
  },
  "language_info": {
   "codemirror_mode": {
    "name": "ipython",
    "version": 3
   },
   "file_extension": ".py",
   "mimetype": "text/x-python",
   "name": "python",
   "nbconvert_exporter": "python",
   "pygments_lexer": "ipython3",
   "version": "3.8.8"
  }
 },
 "nbformat": 4,
 "nbformat_minor": 5
}
