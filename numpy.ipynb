{
 "cells": [
  {
   "cell_type": "code",
   "execution_count": 2,
   "id": "06a817cc",
   "metadata": {},
   "outputs": [
    {
     "name": "stdout",
     "output_type": "stream",
     "text": [
      "Requirement already satisfied: numpy in c:\\users\\e902708\\appdata\\local\\packages\\pythonsoftwarefoundation.python.3.9_qbz5n2kfra8p0\\localcache\\local-packages\\python39\\site-packages (1.20.2)\n"
     ]
    }
   ],
   "source": [
    "!pip install numpy"
   ]
  },
  {
   "cell_type": "code",
   "execution_count": 4,
   "id": "37d9df9a",
   "metadata": {},
   "outputs": [],
   "source": [
    "import numpy as np"
   ]
  },
  {
   "cell_type": "code",
   "execution_count": 5,
   "id": "4dc6a2c4",
   "metadata": {},
   "outputs": [],
   "source": [
    "a = np.array([1,2,3,4,5,6,7,8,9])"
   ]
  },
  {
   "cell_type": "code",
   "execution_count": 6,
   "id": "0d9d9ca8",
   "metadata": {},
   "outputs": [
    {
     "data": {
      "text/plain": [
       "array([1, 2, 3, 4, 5, 6, 7, 8, 9])"
      ]
     },
     "execution_count": 6,
     "metadata": {},
     "output_type": "execute_result"
    }
   ],
   "source": [
    "a\n"
   ]
  },
  {
   "cell_type": "code",
   "execution_count": 7,
   "id": "d91b8a5d",
   "metadata": {},
   "outputs": [
    {
     "data": {
      "text/plain": [
       "1"
      ]
     },
     "execution_count": 7,
     "metadata": {},
     "output_type": "execute_result"
    }
   ],
   "source": [
    "a.ndim #dimesnion of array number of dimension"
   ]
  },
  {
   "cell_type": "code",
   "execution_count": 8,
   "id": "14c2b3f4",
   "metadata": {},
   "outputs": [
    {
     "data": {
      "text/plain": [
       "(9,)"
      ]
     },
     "execution_count": 8,
     "metadata": {},
     "output_type": "execute_result"
    }
   ],
   "source": [
    "a.shape #shape of a numpy array"
   ]
  },
  {
   "cell_type": "code",
   "execution_count": 10,
   "id": "ae938cc0",
   "metadata": {},
   "outputs": [],
   "source": [
    "b=np.array([[1,2,3,4,5,6,7],[9,8,7,6,5,4,3]])"
   ]
  },
  {
   "cell_type": "code",
   "execution_count": 11,
   "id": "b069678c",
   "metadata": {},
   "outputs": [
    {
     "data": {
      "text/plain": [
       "array([[1, 2, 3, 4, 5, 6, 7],\n",
       "       [9, 8, 7, 6, 5, 4, 3]])"
      ]
     },
     "execution_count": 11,
     "metadata": {},
     "output_type": "execute_result"
    }
   ],
   "source": [
    "b"
   ]
  },
  {
   "cell_type": "code",
   "execution_count": 12,
   "id": "8120fd53",
   "metadata": {},
   "outputs": [
    {
     "data": {
      "text/plain": [
       "dtype('int32')"
      ]
     },
     "execution_count": 12,
     "metadata": {},
     "output_type": "execute_result"
    }
   ],
   "source": [
    "a.dtype"
   ]
  },
  {
   "cell_type": "code",
   "execution_count": 13,
   "id": "3fd8e52a",
   "metadata": {},
   "outputs": [
    {
     "data": {
      "text/plain": [
       "dtype('int32')"
      ]
     },
     "execution_count": 13,
     "metadata": {},
     "output_type": "execute_result"
    }
   ],
   "source": [
    "b.dtype"
   ]
  },
  {
   "cell_type": "code",
   "execution_count": 14,
   "id": "955a69a2",
   "metadata": {},
   "outputs": [
    {
     "data": {
      "text/plain": [
       "7"
      ]
     },
     "execution_count": 14,
     "metadata": {},
     "output_type": "execute_result"
    }
   ],
   "source": [
    "b[1,2] # first row and second column (index starts from 0)"
   ]
  },
  {
   "cell_type": "code",
   "execution_count": 15,
   "id": "e0fd5733",
   "metadata": {},
   "outputs": [
    {
     "data": {
      "text/plain": [
       "array([2, 8])"
      ]
     },
     "execution_count": 15,
     "metadata": {},
     "output_type": "execute_result"
    }
   ],
   "source": [
    "b[:,1]"
   ]
  },
  {
   "cell_type": "code",
   "execution_count": 16,
   "id": "9b09484e",
   "metadata": {},
   "outputs": [
    {
     "data": {
      "text/plain": [
       "array([2, 3, 4, 5, 6, 7])"
      ]
     },
     "execution_count": 16,
     "metadata": {},
     "output_type": "execute_result"
    }
   ],
   "source": [
    "b[0,1:7:1]"
   ]
  },
  {
   "cell_type": "code",
   "execution_count": 17,
   "id": "62614cf2",
   "metadata": {},
   "outputs": [
    {
     "data": {
      "text/plain": [
       "array([2, 4, 6])"
      ]
     },
     "execution_count": 17,
     "metadata": {},
     "output_type": "execute_result"
    }
   ],
   "source": [
    "b[0,1:7:2] # start:end:step_size"
   ]
  },
  {
   "cell_type": "code",
   "execution_count": 18,
   "id": "80d5e36d",
   "metadata": {},
   "outputs": [],
   "source": [
    "c=np.array([[1,2,3],[3,4,5],[6,7,8]])"
   ]
  },
  {
   "cell_type": "code",
   "execution_count": 19,
   "id": "2380284a",
   "metadata": {},
   "outputs": [
    {
     "data": {
      "text/plain": [
       "array([[1, 2, 3],\n",
       "       [3, 4, 5],\n",
       "       [6, 7, 8]])"
      ]
     },
     "execution_count": 19,
     "metadata": {},
     "output_type": "execute_result"
    }
   ],
   "source": [
    "c\n"
   ]
  },
  {
   "cell_type": "code",
   "execution_count": 32,
   "id": "86d12ce1",
   "metadata": {},
   "outputs": [
    {
     "data": {
      "text/plain": [
       "array([[1, 2, 3],\n",
       "       [3, 4, 5],\n",
       "       [6, 7, 8]])"
      ]
     },
     "execution_count": 32,
     "metadata": {},
     "output_type": "execute_result"
    }
   ],
   "source": [
    "c[[0,1,2]]"
   ]
  },
  {
   "cell_type": "code",
   "execution_count": 29,
   "id": "500c9571",
   "metadata": {},
   "outputs": [
    {
     "data": {
      "text/plain": [
       "array([[2, 3],\n",
       "       [4, 5],\n",
       "       [7, 8]])"
      ]
     },
     "execution_count": 29,
     "metadata": {},
     "output_type": "execute_result"
    }
   ],
   "source": [
    "c[:,1:]"
   ]
  },
  {
   "cell_type": "code",
   "execution_count": 30,
   "id": "572df0ce",
   "metadata": {},
   "outputs": [
    {
     "data": {
      "text/plain": [
       "(3, 3)"
      ]
     },
     "execution_count": 30,
     "metadata": {},
     "output_type": "execute_result"
    }
   ],
   "source": [
    "c.shape"
   ]
  },
  {
   "cell_type": "code",
   "execution_count": 42,
   "id": "eed8b12e",
   "metadata": {},
   "outputs": [
    {
     "data": {
      "text/plain": [
       "array([2, 4, 7])"
      ]
     },
     "execution_count": 42,
     "metadata": {},
     "output_type": "execute_result"
    }
   ],
   "source": [
    "c[[0,1,2],1] #all rows and first column "
   ]
  },
  {
   "cell_type": "code",
   "execution_count": 45,
   "id": "b4804c3e",
   "metadata": {},
   "outputs": [
    {
     "data": {
      "text/plain": [
       "array([3, 4])"
      ]
     },
     "execution_count": 45,
     "metadata": {},
     "output_type": "execute_result"
    }
   ],
   "source": [
    "c[[0,1],[2,1]] #0 and 1 row and 2 and 1 element of it "
   ]
  },
  {
   "cell_type": "code",
   "execution_count": 46,
   "id": "d08a7b7c",
   "metadata": {},
   "outputs": [],
   "source": [
    "c[[0,1],[2,1]]=[11,12] #changing the element of numoy array"
   ]
  },
  {
   "cell_type": "code",
   "execution_count": 47,
   "id": "0b314028",
   "metadata": {},
   "outputs": [
    {
     "data": {
      "text/plain": [
       "array([[ 1,  2, 11],\n",
       "       [ 3, 12,  5],\n",
       "       [ 6,  7,  8]])"
      ]
     },
     "execution_count": 47,
     "metadata": {},
     "output_type": "execute_result"
    }
   ],
   "source": [
    "c"
   ]
  },
  {
   "cell_type": "code",
   "execution_count": 49,
   "id": "a751a332",
   "metadata": {},
   "outputs": [
    {
     "data": {
      "text/plain": [
       "array([[0., 0., 0., 0.]])"
      ]
     },
     "execution_count": 49,
     "metadata": {},
     "output_type": "execute_result"
    }
   ],
   "source": [
    "np.zeros((1,4)) #array of all zero elemt with 1 row and 4 elemrnt in it "
   ]
  },
  {
   "cell_type": "code",
   "execution_count": 51,
   "id": "fb95c7f7",
   "metadata": {},
   "outputs": [],
   "source": [
    "d=np.zeros((4,5,6)) # first tells number of matrix and second and third\n",
    "                    #element tells rows and column in each element\n"
   ]
  },
  {
   "cell_type": "code",
   "execution_count": 52,
   "id": "818e7ff1",
   "metadata": {},
   "outputs": [
    {
     "data": {
      "text/plain": [
       "array([[[0., 0., 0., 0., 0., 0.],\n",
       "        [0., 0., 0., 0., 0., 0.],\n",
       "        [0., 0., 0., 0., 0., 0.],\n",
       "        [0., 0., 0., 0., 0., 0.],\n",
       "        [0., 0., 0., 0., 0., 0.]],\n",
       "\n",
       "       [[0., 0., 0., 0., 0., 0.],\n",
       "        [0., 0., 0., 0., 0., 0.],\n",
       "        [0., 0., 0., 0., 0., 0.],\n",
       "        [0., 0., 0., 0., 0., 0.],\n",
       "        [0., 0., 0., 0., 0., 0.]],\n",
       "\n",
       "       [[0., 0., 0., 0., 0., 0.],\n",
       "        [0., 0., 0., 0., 0., 0.],\n",
       "        [0., 0., 0., 0., 0., 0.],\n",
       "        [0., 0., 0., 0., 0., 0.],\n",
       "        [0., 0., 0., 0., 0., 0.]],\n",
       "\n",
       "       [[0., 0., 0., 0., 0., 0.],\n",
       "        [0., 0., 0., 0., 0., 0.],\n",
       "        [0., 0., 0., 0., 0., 0.],\n",
       "        [0., 0., 0., 0., 0., 0.],\n",
       "        [0., 0., 0., 0., 0., 0.]]])"
      ]
     },
     "execution_count": 52,
     "metadata": {},
     "output_type": "execute_result"
    }
   ],
   "source": [
    "d"
   ]
  },
  {
   "cell_type": "code",
   "execution_count": 57,
   "id": "9399f451",
   "metadata": {},
   "outputs": [],
   "source": [
    "e=np.ones((2,3,4),dtype='int32') #changed type to int32"
   ]
  },
  {
   "cell_type": "code",
   "execution_count": 58,
   "id": "44713e7c",
   "metadata": {},
   "outputs": [
    {
     "data": {
      "text/plain": [
       "array([[[1, 1, 1, 1],\n",
       "        [1, 1, 1, 1],\n",
       "        [1, 1, 1, 1]],\n",
       "\n",
       "       [[1, 1, 1, 1],\n",
       "        [1, 1, 1, 1],\n",
       "        [1, 1, 1, 1]]])"
      ]
     },
     "execution_count": 58,
     "metadata": {},
     "output_type": "execute_result"
    }
   ],
   "source": [
    "e"
   ]
  },
  {
   "cell_type": "code",
   "execution_count": 59,
   "id": "2f72465f",
   "metadata": {},
   "outputs": [],
   "source": [
    "f = np.full((2,3,4),8)  #making an array of 8 , it takes two parameter first one \n",
    "                        #shape of array and second the number for which array is required"
   ]
  },
  {
   "cell_type": "code",
   "execution_count": 60,
   "id": "2a9797fb",
   "metadata": {},
   "outputs": [
    {
     "data": {
      "text/plain": [
       "array([[[8, 8, 8, 8],\n",
       "        [8, 8, 8, 8],\n",
       "        [8, 8, 8, 8]],\n",
       "\n",
       "       [[8, 8, 8, 8],\n",
       "        [8, 8, 8, 8],\n",
       "        [8, 8, 8, 8]]])"
      ]
     },
     "execution_count": 60,
     "metadata": {},
     "output_type": "execute_result"
    }
   ],
   "source": [
    "f\n"
   ]
  },
  {
   "cell_type": "code",
   "execution_count": 61,
   "id": "5453f6ee",
   "metadata": {},
   "outputs": [
    {
     "data": {
      "text/plain": [
       "array([2, 2, 2, 2, 2, 2, 2, 2, 2])"
      ]
     },
     "execution_count": 61,
     "metadata": {},
     "output_type": "execute_result"
    }
   ],
   "source": [
    "np.full_like(a,2) # inherit the shape of existing array "
   ]
  },
  {
   "cell_type": "code",
   "execution_count": 62,
   "id": "0068aee7",
   "metadata": {},
   "outputs": [
    {
     "data": {
      "text/plain": [
       "array([[[0.5992623 , 0.83514851, 0.17676077, 0.98896495],\n",
       "        [0.38588311, 0.65243103, 0.42871185, 0.54196274],\n",
       "        [0.29978586, 0.98997779, 0.09473384, 0.33652983]],\n",
       "\n",
       "       [[0.04571965, 0.02000497, 0.96637181, 0.439886  ],\n",
       "        [0.11320787, 0.97235098, 0.38541719, 0.78729119],\n",
       "        [0.54893326, 0.94422295, 0.99110421, 0.86686031]]])"
      ]
     },
     "execution_count": 62,
     "metadata": {},
     "output_type": "execute_result"
    }
   ],
   "source": [
    "np.random.rand(2,3,4) #an array with random values "
   ]
  },
  {
   "cell_type": "code",
   "execution_count": 67,
   "id": "388b2942",
   "metadata": {},
   "outputs": [
    {
     "data": {
      "text/plain": [
       "array([[[3.80042885e-01, 4.39716511e-01, 4.71981584e-01, 6.33525723e-02,\n",
       "         1.99556459e-01, 2.61379898e-01, 8.55842769e-02],\n",
       "        [5.19867176e-01, 9.82494293e-01, 3.15071457e-01, 3.83084467e-01,\n",
       "         8.27828049e-01, 3.37978741e-01, 3.81602594e-01],\n",
       "        [4.96725646e-01, 3.44958362e-01, 4.41861994e-02, 9.20546070e-01,\n",
       "         5.77125916e-01, 8.51761187e-01, 1.62835690e-02],\n",
       "        [3.90847097e-03, 9.29464646e-01, 9.40342148e-01, 1.22752851e-01,\n",
       "         2.27264426e-02, 1.78731733e-01, 7.30305275e-01],\n",
       "        [6.56026230e-01, 6.55098127e-01, 4.38123189e-02, 9.85292678e-01,\n",
       "         4.24604252e-01, 3.19080467e-01, 5.46910532e-01],\n",
       "        [9.76154577e-01, 5.02351835e-01, 6.39886238e-01, 8.31409795e-01,\n",
       "         9.84623959e-02, 9.49071207e-02, 4.89006093e-01]],\n",
       "\n",
       "       [[4.69865286e-01, 8.22236538e-01, 1.39162673e-01, 3.56542171e-01,\n",
       "         5.34125333e-02, 7.68503460e-01, 6.74080147e-01],\n",
       "        [8.33928683e-01, 1.72572796e-01, 5.43397549e-01, 5.42354286e-01,\n",
       "         8.54912636e-01, 5.12844094e-02, 9.95295532e-01],\n",
       "        [2.86846667e-02, 7.69222233e-01, 1.13203417e-01, 3.79604715e-04,\n",
       "         6.57532144e-02, 2.96720264e-01, 1.18714419e-01],\n",
       "        [7.54907605e-01, 7.40387095e-01, 9.50943475e-01, 2.53250534e-01,\n",
       "         4.26638571e-01, 2.05042846e-01, 5.64687986e-01],\n",
       "        [6.64848490e-01, 2.98092182e-01, 9.83928195e-01, 9.39598717e-01,\n",
       "         4.30897076e-01, 4.54159870e-01, 4.99471846e-01],\n",
       "        [5.72910858e-01, 8.23015032e-03, 6.06932492e-01, 8.31189433e-01,\n",
       "         2.27405443e-01, 4.60872946e-01, 9.45924250e-01]]])"
      ]
     },
     "execution_count": 67,
     "metadata": {},
     "output_type": "execute_result"
    }
   ],
   "source": [
    "np.random.rand(2,6,7)"
   ]
  },
  {
   "cell_type": "code",
   "execution_count": 70,
   "id": "9241175c",
   "metadata": {},
   "outputs": [],
   "source": [
    "i = np.identity(5)"
   ]
  },
  {
   "cell_type": "code",
   "execution_count": 71,
   "id": "bfd4e7e5",
   "metadata": {},
   "outputs": [
    {
     "data": {
      "text/plain": [
       "array([[1., 0., 0., 0., 0.],\n",
       "       [0., 1., 0., 0., 0.],\n",
       "       [0., 0., 1., 0., 0.],\n",
       "       [0., 0., 0., 1., 0.],\n",
       "       [0., 0., 0., 0., 1.]])"
      ]
     },
     "execution_count": 71,
     "metadata": {},
     "output_type": "execute_result"
    }
   ],
   "source": [
    "i"
   ]
  },
  {
   "cell_type": "code",
   "execution_count": 73,
   "id": "f2ffe0f8",
   "metadata": {},
   "outputs": [],
   "source": [
    "i = np.identity(5 , dtype='int32') # identity is used to create identity array "
   ]
  },
  {
   "cell_type": "code",
   "execution_count": 74,
   "id": "2021cf94",
   "metadata": {},
   "outputs": [
    {
     "data": {
      "text/plain": [
       "array([[1, 0, 0, 0, 0],\n",
       "       [0, 1, 0, 0, 0],\n",
       "       [0, 0, 1, 0, 0],\n",
       "       [0, 0, 0, 1, 0],\n",
       "       [0, 0, 0, 0, 1]])"
      ]
     },
     "execution_count": 74,
     "metadata": {},
     "output_type": "execute_result"
    }
   ],
   "source": [
    "i"
   ]
  },
  {
   "cell_type": "code",
   "execution_count": 85,
   "id": "1da11ca1",
   "metadata": {},
   "outputs": [
    {
     "data": {
      "text/plain": [
       "array([[1, 2, 3],\n",
       "       [1, 2, 3],\n",
       "       [1, 2, 3]])"
      ]
     },
     "execution_count": 85,
     "metadata": {},
     "output_type": "execute_result"
    }
   ],
   "source": [
    "#repeat an array \n",
    "a=np.array([[1,2,3]]) # first create an array\n",
    "b=np.repeat(a,3,axis=0) #repeat is used to create a repeated array\n",
    "b"
   ]
  },
  {
   "cell_type": "code",
   "execution_count": 89,
   "id": "b9688ae5",
   "metadata": {},
   "outputs": [
    {
     "data": {
      "text/plain": [
       "array([[[0.9773766 , 0.0182469 , 0.51845103, 0.15223403],\n",
       "        [0.35141962, 0.28290022, 0.72412904, 0.07106751],\n",
       "        [0.55416718, 0.52395027, 0.22540659, 0.7830445 ]],\n",
       "\n",
       "       [[0.76749642, 0.53445503, 0.7503773 , 0.74795914],\n",
       "        [0.66000359, 0.68750468, 0.16660287, 0.95974258],\n",
       "        [0.29073799, 0.02915932, 0.52124146, 0.42028358]]])"
      ]
     },
     "execution_count": 89,
     "metadata": {},
     "output_type": "execute_result"
    }
   ],
   "source": [
    "np.random.rand(2,3,4)"
   ]
  },
  {
   "cell_type": "code",
   "execution_count": 92,
   "id": "ee030098",
   "metadata": {},
   "outputs": [
    {
     "name": "stdout",
     "output_type": "stream",
     "text": [
      "[ 1 20  3]\n"
     ]
    }
   ],
   "source": [
    "#copying the numpy \n",
    "a= np.array([1,2,3])\n",
    "b=a\n",
    "b[1]=20\n",
    "print(a)\n",
    "#here we have changed the value of b but value of a is also changed "
   ]
  },
  {
   "cell_type": "code",
   "execution_count": 93,
   "id": "0f125dd4",
   "metadata": {},
   "outputs": [
    {
     "name": "stdout",
     "output_type": "stream",
     "text": [
      "[1 2 3]\n"
     ]
    }
   ],
   "source": [
    "#another way of preventing above \n",
    "a=np.array([1,2,3])\n",
    "b=a.copy()\n",
    "b[1]=20\n",
    "print(a)\n"
   ]
  },
  {
   "cell_type": "code",
   "execution_count": 94,
   "id": "72083952",
   "metadata": {},
   "outputs": [
    {
     "data": {
      "text/plain": [
       "array([1, 2, 3])"
      ]
     },
     "execution_count": 94,
     "metadata": {},
     "output_type": "execute_result"
    }
   ],
   "source": [
    "a"
   ]
  },
  {
   "cell_type": "code",
   "execution_count": 98,
   "id": "cbbcc5c3",
   "metadata": {},
   "outputs": [
    {
     "data": {
      "text/plain": [
       "array([3, 4, 5])"
      ]
     },
     "execution_count": 98,
     "metadata": {},
     "output_type": "execute_result"
    }
   ],
   "source": [
    "a+2 #add two to every component of numpy\n"
   ]
  },
  {
   "cell_type": "code",
   "execution_count": 99,
   "id": "9745d25e",
   "metadata": {},
   "outputs": [
    {
     "data": {
      "text/plain": [
       "array([-1,  0,  1])"
      ]
     },
     "execution_count": 99,
     "metadata": {},
     "output_type": "execute_result"
    }
   ],
   "source": [
    "a-2 #subtract two to every component of numpy\n"
   ]
  },
  {
   "cell_type": "code",
   "execution_count": 100,
   "id": "0e1dd110",
   "metadata": {},
   "outputs": [
    {
     "data": {
      "text/plain": [
       "array([2, 4, 6])"
      ]
     },
     "execution_count": 100,
     "metadata": {},
     "output_type": "execute_result"
    }
   ],
   "source": [
    "a*2  #multiply two to every component of numpy\n"
   ]
  },
  {
   "cell_type": "code",
   "execution_count": 101,
   "id": "e80ad854",
   "metadata": {},
   "outputs": [
    {
     "data": {
      "text/plain": [
       "array([0.5, 1. , 1.5])"
      ]
     },
     "execution_count": 101,
     "metadata": {},
     "output_type": "execute_result"
    }
   ],
   "source": [
    "a/2 #divide two to every component of numpy"
   ]
  },
  {
   "cell_type": "code",
   "execution_count": 102,
   "id": "b8d689e0",
   "metadata": {},
   "outputs": [
    {
     "data": {
      "text/plain": [
       "array([ 0.54030231, -0.41614684, -0.9899925 ])"
      ]
     },
     "execution_count": 102,
     "metadata": {},
     "output_type": "execute_result"
    }
   ],
   "source": [
    "np.cos(a) #cosine of a "
   ]
  },
  {
   "cell_type": "code",
   "execution_count": 103,
   "id": "82b3241c",
   "metadata": {},
   "outputs": [
    {
     "data": {
      "text/plain": [
       "array([0.84147098, 0.90929743, 0.14112001])"
      ]
     },
     "execution_count": 103,
     "metadata": {},
     "output_type": "execute_result"
    }
   ],
   "source": [
    "np.sin(a) # sine of a "
   ]
  },
  {
   "cell_type": "code",
   "execution_count": 107,
   "id": "518f1b67",
   "metadata": {},
   "outputs": [
    {
     "name": "stdout",
     "output_type": "stream",
     "text": [
      "[[1. 1. 1.]\n",
      " [1. 1. 1.]]\n",
      "[[3 3 3 3]\n",
      " [3 3 3 3]\n",
      " [3 3 3 3]]\n"
     ]
    },
    {
     "data": {
      "text/plain": [
       "array([[9., 9., 9., 9.],\n",
       "       [9., 9., 9., 9.]])"
      ]
     },
     "execution_count": 107,
     "metadata": {},
     "output_type": "execute_result"
    }
   ],
   "source": [
    "#linear algebra\n",
    "a=np.ones((2,3))\n",
    "print(a)\n",
    "b=np.full((3,4),3)\n",
    "print(b)\n",
    "np.matmul(a,b)"
   ]
  },
  {
   "cell_type": "code",
   "execution_count": 108,
   "id": "541c76e7",
   "metadata": {},
   "outputs": [
    {
     "data": {
      "text/plain": [
       "1.0"
      ]
     },
     "execution_count": 108,
     "metadata": {},
     "output_type": "execute_result"
    }
   ],
   "source": [
    "a.max()"
   ]
  },
  {
   "cell_type": "code",
   "execution_count": 109,
   "id": "f24b0660",
   "metadata": {},
   "outputs": [
    {
     "data": {
      "text/plain": [
       "3"
      ]
     },
     "execution_count": 109,
     "metadata": {},
     "output_type": "execute_result"
    }
   ],
   "source": [
    "b.min()"
   ]
  },
  {
   "cell_type": "code",
   "execution_count": 110,
   "id": "ea9d8419",
   "metadata": {},
   "outputs": [
    {
     "data": {
      "text/plain": [
       "6.0"
      ]
     },
     "execution_count": 110,
     "metadata": {},
     "output_type": "execute_result"
    }
   ],
   "source": [
    "a.sum()"
   ]
  },
  {
   "cell_type": "code",
   "execution_count": 111,
   "id": "34536f66",
   "metadata": {},
   "outputs": [
    {
     "data": {
      "text/plain": [
       "36"
      ]
     },
     "execution_count": 111,
     "metadata": {},
     "output_type": "execute_result"
    }
   ],
   "source": [
    "b.sum()"
   ]
  },
  {
   "cell_type": "code",
   "execution_count": null,
   "id": "e9ef8440",
   "metadata": {},
   "outputs": [],
   "source": []
  }
 ],
 "metadata": {
  "kernelspec": {
   "display_name": "Python 3 (ipykernel)",
   "language": "python",
   "name": "python3"
  },
  "language_info": {
   "codemirror_mode": {
    "name": "ipython",
    "version": 3
   },
   "file_extension": ".py",
   "mimetype": "text/x-python",
   "name": "python",
   "nbconvert_exporter": "python",
   "pygments_lexer": "ipython3",
   "version": "3.9.4"
  }
 },
 "nbformat": 4,
 "nbformat_minor": 5
}
