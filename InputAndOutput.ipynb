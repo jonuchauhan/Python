{
 "cells": [
  {
   "cell_type": "code",
   "execution_count": 2,
   "id": "61fbb482",
   "metadata": {},
   "outputs": [
    {
     "name": "stdout",
     "output_type": "stream",
     "text": [
      "Enter a number \n",
      "10\n"
     ]
    }
   ],
   "source": [
    "#taking input from user\n",
    "a=input(\"Enter a number \\n\")"
   ]
  },
  {
   "cell_type": "code",
   "execution_count": 3,
   "id": "5e8c86a4",
   "metadata": {},
   "outputs": [
    {
     "name": "stdout",
     "output_type": "stream",
     "text": [
      "Enter a Integer \n",
      "10\n",
      "Enter a Integer \n",
      "20\n",
      "Addition of two input integer is 30\n"
     ]
    }
   ],
   "source": [
    "#input and type casting \n",
    "a=int(input(\"Enter a Integer \\n\"))\n",
    "b=int(input(\"Enter a Integer \\n\"))\n",
    "\n",
    "print(f\"Addition of two input integer is {a+b}\")"
   ]
  },
  {
   "cell_type": "code",
   "execution_count": 20,
   "id": "768fa8d9",
   "metadata": {},
   "outputs": [
    {
     "name": "stdout",
     "output_type": "stream",
     "text": [
      "['-', '1', '2', '3', '4', '5', '6', '7', '8', '9']\r\n",
      "1\r\n",
      "2\r\n",
      "3\r\n",
      "4\r\n",
      "5\r\n",
      "6\r\n",
      "7\r\n",
      "8\r\n",
      "9\r\n"
     ]
    }
   ],
   "source": [
    "%%python - 1 2 3 4 5 6 7 8 9\n",
    "\"\"\"command line argument\"\"\"\n",
    "import sys\n",
    "print(sys.argv)\n",
    "\n",
    "#sys.argv is used to get the passed command line arguments here we have passed 1-9 values \n",
    "# first argument in argv which is argv[0] is the name of program\n",
    "\n",
    "for i in sys.argv[1:]:\n",
    "     print(i)"
   ]
  },
  {
   "cell_type": "code",
   "execution_count": 25,
   "id": "2a54b12c",
   "metadata": {},
   "outputs": [
    {
     "name": "stdout",
     "output_type": "stream",
     "text": [
      "hello\n",
      "hello world\n",
      "the value of variable a is 10\n"
     ]
    }
   ],
   "source": [
    "#for output we use print statments\n",
    "\n",
    "print(\"hello\")\n",
    "print(\"hello\" + \" \" +\"world\")\n",
    "#passing certain values in string statements using f string \n",
    "a=10\n",
    "print(f\"the value of variable a is {a}\")"
   ]
  }
 ],
 "metadata": {
  "kernelspec": {
   "display_name": "Python 3",
   "language": "python",
   "name": "python3"
  },
  "language_info": {
   "codemirror_mode": {
    "name": "ipython",
    "version": 3
   },
   "file_extension": ".py",
   "mimetype": "text/x-python",
   "name": "python",
   "nbconvert_exporter": "python",
   "pygments_lexer": "ipython3",
   "version": "3.8.8"
  }
 },
 "nbformat": 4,
 "nbformat_minor": 5
}
