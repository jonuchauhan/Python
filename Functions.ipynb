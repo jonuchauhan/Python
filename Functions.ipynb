{
 "cells": [
  {
   "cell_type": "code",
   "execution_count": 2,
   "id": "dcbe2b6c",
   "metadata": {},
   "outputs": [
    {
     "data": {
      "text/plain": [
       "30"
      ]
     },
     "execution_count": 2,
     "metadata": {},
     "output_type": "execute_result"
    }
   ],
   "source": [
    "\"\"\"Functions ae group of statements used to do a certain \n",
    "task and can be used multiple times without writing the same code again and again\"\"\"\n",
    "\n",
    "def sum( x ,  y):\n",
    "    \"\"\"return the sum\n",
    "       Keyword arguments:\n",
    "       x :- first int input\n",
    "       y :- second int input \n",
    "    \"\"\"\n",
    "    return x+y\n",
    "\n",
    "sum(10,20)\n"
   ]
  },
  {
   "cell_type": "code",
   "execution_count": 54,
   "id": "f26f4aa7",
   "metadata": {},
   "outputs": [
    {
     "name": "stdout",
     "output_type": "stream",
     "text": [
      "Given number is even\n"
     ]
    }
   ],
   "source": [
    "def even_odd(number):\n",
    "    \"\"\"This function is used to check the given number is even or odd\n",
    "       params:\n",
    "       number any integer\n",
    "    \"\"\"\n",
    "    assert number!=0,\"Please enter number greater than 0\"\n",
    "    \n",
    "    if (number%2==0):\n",
    "        print(\"Given number is even\")\n",
    "    else:\n",
    "        print(\"Given number is odd\")\n",
    "\n",
    "even_odd(6)"
   ]
  },
  {
   "cell_type": "code",
   "execution_count": 33,
   "id": "f3b27575",
   "metadata": {},
   "outputs": [
    {
     "name": "stdout",
     "output_type": "stream",
     "text": [
      "15 140720599869680\n",
      "10 140720599869520\n"
     ]
    }
   ],
   "source": [
    "def modify(num=15):\n",
    "    \"\"\"this function is used modify the value of \n",
    "      given number and print value and its id\n",
    "      params:\n",
    "         number :- any integer number\n",
    "    \"\"\"\n",
    "    print(num,id(num)) \n",
    "\n",
    "modify()   \n",
    "modify(10)"
   ]
  },
  {
   "cell_type": "code",
   "execution_count": 41,
   "id": "ab5cf40a",
   "metadata": {},
   "outputs": [
    {
     "name": "stdout",
     "output_type": "stream",
     "text": [
      "150\n",
      "30\n",
      "60\n",
      "10\n"
     ]
    }
   ],
   "source": [
    "\"\"\"variable length arguments\"\"\"\n",
    "def variable_sum(*args):\n",
    "    \"\"\"returns the sum of given arguments\"\"\"\n",
    "    sum=0\n",
    "    for i in args:\n",
    "        sum=sum+i\n",
    "    return sum\n",
    "\n",
    "print(variable_sum(10,20,30,30,60))\n",
    "print(variable_sum(10,20))\n",
    "print(variable_sum(10,20,30))\n",
    "print(variable_sum(10))"
   ]
  },
  {
   "cell_type": "code",
   "execution_count": 44,
   "id": "df2711e1",
   "metadata": {},
   "outputs": [
    {
     "name": "stdout",
     "output_type": "stream",
     "text": [
      "name :- steve\n",
      "name :- smith\n",
      "name :- karan\n",
      "name :- varun\n",
      "name :- karun\n",
      "name :- verma\n",
      "name :- sharma\n",
      "name :- sam\n",
      "name :- nick\n",
      "name :- coffer\n",
      "name :- rabbit\n"
     ]
    }
   ],
   "source": [
    "\"\"\"variable length arguments\"\"\"\n",
    "def variable_names(*names):\n",
    "    \"\"\"dispays the names given in arguments\n",
    "       it is not necessary to use args keyword only \n",
    "       * is mandatory which signifies the given argument is Non Keyword Arguments\n",
    "    \"\"\"\n",
    "    \n",
    "    for name in names:\n",
    "        print(f'name :- {name}' )\n",
    "    \n",
    "\n",
    "variable_names(\"steve\",\"smith\",\"karan\",\"varun\",\"karun\")\n",
    "variable_names(\"verma\",\"sharma\")\n",
    "variable_names(\"sam\",\"nick\",\"coffer\")\n",
    "variable_names(\"rabbit\")"
   ]
  },
  {
   "cell_type": "code",
   "execution_count": 52,
   "id": "f232050d",
   "metadata": {},
   "outputs": [
    {
     "name": "stdout",
     "output_type": "stream",
     "text": [
      "name steve\n",
      "salary 30000\n",
      "name steve\n",
      "salary 30000\n",
      "dept HR\n"
     ]
    }
   ],
   "source": [
    "def variable_keywords(**kwargs):\n",
    "    \"\"\"takes the variable length input in form of key and values\n",
    "    \"\"\"\n",
    "    for x,y in kwargs.items():\n",
    "        print(x,y)\n",
    "variable_keywords(name='steve',salary=30000)\n",
    "variable_keywords(name='steve',salary=30000,dept=\"HR\")"
   ]
  },
  {
   "cell_type": "code",
   "execution_count": 61,
   "id": "9a436a68",
   "metadata": {},
   "outputs": [
    {
     "name": "stdout",
     "output_type": "stream",
     "text": [
      "I am decorator\n",
      "hello\n"
     ]
    }
   ],
   "source": [
    "\"\"\"Decorators \n",
    " Decorartors are functions which takes arguments as functions and return a function \n",
    "\"\"\"\n",
    "\n",
    "def outer(func):\n",
    "    def inner ():\n",
    "        print(\"I am decorator\")\n",
    "        func()\n",
    "    return inner \n",
    "\n",
    "\n",
    "def hello():\n",
    "    print(\"hello\")\n",
    "\n",
    "\n",
    "decorated_func =outer(hello)\n",
    "decorated_func ()"
   ]
  },
  {
   "cell_type": "code",
   "execution_count": 66,
   "id": "9ca98cac",
   "metadata": {},
   "outputs": [
    {
     "name": "stdout",
     "output_type": "stream",
     "text": [
      "I am decorator\n",
      "hello\n"
     ]
    }
   ],
   "source": [
    "\"\"\"Decorators \n",
    " Decorartors are functions which takes arguments as functions and return a function \n",
    "\"\"\"\n",
    "\n",
    "def outer(func):\n",
    "    def inner ():\n",
    "        print(\"I am decorator\")\n",
    "        func()\n",
    "    return inner \n",
    "\n",
    "\n",
    "@outer\n",
    "def hello():\n",
    "    print(\"hello\")\n",
    "\n",
    "\n",
    "hello()\n"
   ]
  },
  {
   "cell_type": "code",
   "execution_count": 71,
   "id": "be93c950",
   "metadata": {},
   "outputs": [
    {
     "name": "stdout",
     "output_type": "stream",
     "text": [
      "2.0\n",
      "0.8\n"
     ]
    }
   ],
   "source": [
    "def smart_divide(func):\n",
    "    def inner(a,b):\n",
    "        assert a!=0,\"Number should not be zero\"\n",
    "        assert b!=0,\"Number should not be zero\"\n",
    "        func(a,b)\n",
    "    return inner\n",
    "\n",
    "        \n",
    "\n",
    "@smart_divide\n",
    "def divide(a,b):\n",
    "    print(a/b)\n",
    "    \n",
    "divide(4,2)\n",
    "divide(4,5)"
   ]
  },
  {
   "cell_type": "code",
   "execution_count": 79,
   "id": "3bab08a0",
   "metadata": {},
   "outputs": [
    {
     "name": "stdout",
     "output_type": "stream",
     "text": [
      "I am decorated\n",
      "0.6666666666666666\n"
     ]
    }
   ],
   "source": [
    "class SMART_DIVIDE:\n",
    "    def __init__(self,func):\n",
    "        self.func = func\n",
    "    def __call__(self,a , b):\n",
    "        print(\"I am decorated\")\n",
    "        assert a!=0,\"Number should not be zero\"\n",
    "        assert b!=0,\"Number should not be zero\"\n",
    "        return self.func(a,b)\n",
    "\n",
    "@SMART_DIVIDE\n",
    "def divide(a,b):\n",
    "    print(a/b)\n",
    "\n",
    "        \n",
    "divide(2,3)\n",
    "\n"
   ]
  },
  {
   "cell_type": "code",
   "execution_count": null,
   "id": "94b06071",
   "metadata": {},
   "outputs": [],
   "source": []
  },
  {
   "cell_type": "code",
   "execution_count": null,
   "id": "9497cc12",
   "metadata": {},
   "outputs": [],
   "source": []
  }
 ],
 "metadata": {
  "kernelspec": {
   "display_name": "Python 3",
   "language": "python",
   "name": "python3"
  },
  "language_info": {
   "codemirror_mode": {
    "name": "ipython",
    "version": 3
   },
   "file_extension": ".py",
   "mimetype": "text/x-python",
   "name": "python",
   "nbconvert_exporter": "python",
   "pygments_lexer": "ipython3",
   "version": "3.8.8"
  }
 },
 "nbformat": 4,
 "nbformat_minor": 5
}
