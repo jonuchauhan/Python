{
 "cells": [
  {
   "cell_type": "code",
   "execution_count": 7,
   "id": "6584cd65",
   "metadata": {},
   "outputs": [
    {
     "name": "stdout",
     "output_type": "stream",
     "text": [
      "1\n",
      "Varun\n",
      "HR\n",
      "hello\n"
     ]
    }
   ],
   "source": [
    "\"\"\"Classes are like blueprint and using blue print several \n",
    "  objects are created and each objects has unique traits\"\"\"\n",
    "\n",
    "class Employee:\n",
    "    pass\n",
    "    def talk(self):\n",
    "        print(\"hello\")\n",
    "        \n",
    "\n",
    "\"below is the way to create a object in python\"        \n",
    "emp=Employee()\n",
    "\"assigining the attributes to a object\"\n",
    "emp.emp_id=1\n",
    "emp.emp_name=\"Varun\"\n",
    "emp.emp_dept=\"HR\"\n",
    "\n",
    "print(emp.emp_id)\n",
    "print(emp.emp_name)\n",
    "print(emp.emp_dept)\n",
    "emp.talk()"
   ]
  },
  {
   "cell_type": "code",
   "execution_count": 14,
   "id": "a596fd2f",
   "metadata": {},
   "outputs": [
    {
     "name": "stdout",
     "output_type": "stream",
     "text": [
      "1\n",
      "Varun\n",
      "HR\n",
      "-------------------\n",
      "2\n",
      "Karan\n",
      "IT\n",
      "-------------------\n",
      "dept of Varun is HR\n",
      "-------------------\n",
      "dept of Karan is IT\n"
     ]
    }
   ],
   "source": [
    "\"Another way to assign attributes to a object  objects\"\n",
    "\n",
    "class Employee:\n",
    "    def __init__(self,emp_id,emp_name,emp_dept):\n",
    "        self.emp_id=emp_id\n",
    "        self.emp_name=emp_name\n",
    "        self.emp_dept=emp_dept\n",
    "    def which_dept(self):\n",
    "        print(f'dept of {self.emp_name} is {self.emp_dept}')\n",
    "\n",
    "emp_1 =Employee(1,\"Varun\",\"HR\")\n",
    "emp_2=Employee(2,\"Karan\",\"IT\")\n",
    "\n",
    "print(emp_1.emp_id)\n",
    "print(emp_1.emp_name)\n",
    "print(emp_1.emp_dept)\n",
    "print('-------------------')\n",
    "print(emp_2.emp_id)\n",
    "print(emp_2.emp_name)\n",
    "print(emp_2.emp_dept)\n",
    "\n",
    "print('-------------------')\n",
    "\n",
    "emp_1.which_dept()\n",
    "print('-------------------')\n",
    "emp_2.which_dept()"
   ]
  },
  {
   "cell_type": "code",
   "execution_count": 54,
   "id": "48184265",
   "metadata": {},
   "outputs": [
    {
     "name": "stdout",
     "output_type": "stream",
     "text": [
      "10000\n",
      "10000\n",
      "total employee in a company :- 4\n"
     ]
    }
   ],
   "source": [
    "\"\"\"variables in class\"\"\"\n",
    "class Employee:\n",
    "    x=0\n",
    "    base_salary=10000\n",
    "    def __init__(self,emp_id,emp_name,emp_dept):\n",
    "        self.emp_id = emp_id\n",
    "        self.emp_name = emp_name\n",
    "        self.emp_dept = emp_dept\n",
    "        Employee.x+=1\n",
    "        \n",
    "    @classmethod #this is class method which takes class as argurment unlike self which are instance oriented \n",
    "    def total_employee(cls):\n",
    "        print(f'total employee in a company :- {cls.x}')\n",
    "    \n",
    "        \n",
    "        \n",
    "       \n",
    "emp_1 =Employee(1,\"Varun\",\"HR\")\n",
    "emp_2=Employee(2,\"Karan\",\"IT\")\n",
    "emp_3=Employee(2,\"steve\",\"IT\")\n",
    "emp_3=Employee(2,\"Kia\",\"Admin\")\n",
    "\n",
    "emp_1.emp_id\n",
    "print(emp_1.base_salary) # class variables are variables which are same for every instance unlike instance attributes  \n",
    "print(emp_2.base_salary)\n",
    "\n",
    "emp_1.total_employee()\n"
   ]
  },
  {
   "cell_type": "markdown",
   "id": "debb03ad",
   "metadata": {},
   "source": [
    "**Property decorator**"
   ]
  },
  {
   "cell_type": "code",
   "execution_count": 50,
   "id": "eb1eed41",
   "metadata": {},
   "outputs": [
    {
     "name": "stdout",
     "output_type": "stream",
     "text": [
      "priya.Kumari@xyz.com\n",
      "dixit\n",
      "priya.Kumari@xyz.com\n"
     ]
    }
   ],
   "source": [
    "class Employee:\n",
    "    def __init__(self,fname,lname):\n",
    "        self.fname=fname\n",
    "        self.lname=lname\n",
    "        self.email =f'{fname}.{lname}@xyz.com'\n",
    "        \n",
    "           \n",
    "       \n",
    "emp_1 =Employee(\"priya\",\"Kumari\")\n",
    "print(emp_1.email)\n",
    "\n",
    "emp_1.lname=\"dixit\" #now employee lastname is changed,but email will not change as constructor is called only once \n",
    "                    #to solve this issue we use getter and setter\n",
    "print(emp_1.lname) \n",
    "print(emp_1.email)"
   ]
  },
  {
   "cell_type": "code",
   "execution_count": 49,
   "id": "7b0d9c48",
   "metadata": {},
   "outputs": [
    {
     "name": "stdout",
     "output_type": "stream",
     "text": [
      "priya.Kumari@xyz.com\n",
      "priya.dixit@xyz.com\n",
      "dixit\n",
      "priya.dixit_1@xyz.com\n",
      "priya.dixit_2@xyz.com\n"
     ]
    }
   ],
   "source": [
    "class Employee:\n",
    "    def __init__(self,fname,lname):\n",
    "        self._fname=fname\n",
    "        self._lname=lname\n",
    "        self._email = f'{self.fname}.{self.lname}@xyz.com'\n",
    "        \n",
    "        \n",
    "    @property\n",
    "    def fname(self):\n",
    "        return self._fname\n",
    "   \n",
    "    @fname.setter\n",
    "    def fname(self,fname):\n",
    "        self._fname=fname\n",
    "        self._email = f'{self.fname}.{self.lname}@xyz.com'\n",
    "      \n",
    "        \n",
    "    @property\n",
    "    def lname(self):\n",
    "        return self._lname\n",
    "               \n",
    "   \n",
    "    @lname.setter\n",
    "    def lname(self,lname):\n",
    "        self._lname=lname\n",
    "        self._email = f'{self.fname}.{self.lname}@xyz.com'\n",
    "      \n",
    "        \n",
    "    @property\n",
    "    def email(self):\n",
    "        if not hasattr(self, '_email'):\n",
    "            self._email = f'{self.fname}.{self.lname}@xyz.com'\n",
    "        return self._email\n",
    "   \n",
    "    @email.setter\n",
    "    def email(self,email):\n",
    "        self._email=email\n",
    "        \n",
    "\n",
    "               \n",
    "       \n",
    "emp_1 =Employee(\"priya\",\"Kumari\")\n",
    "print(emp_1.email)\n",
    "\n",
    "emp_1.lname=\"dixit\" #now employee lastname is changed,but email will not change as constructor is called only once \n",
    "print(emp_1.email)  # now the email is changed as it is defined with property decorator\n",
    "print(emp_1.lname)\n",
    "emp_1.email=\"priya.dixit_1@xyz.com\"\n",
    "\n",
    "print(emp_1.email)\n",
    "emp_1.email=\"priya.dixit_2@xyz.com\"\n",
    "\n",
    "print(emp_1.email)\n"
   ]
  }
 ],
 "metadata": {
  "kernelspec": {
   "display_name": "Python 3",
   "language": "python",
   "name": "python3"
  },
  "language_info": {
   "codemirror_mode": {
    "name": "ipython",
    "version": 3
   },
   "file_extension": ".py",
   "mimetype": "text/x-python",
   "name": "python",
   "nbconvert_exporter": "python",
   "pygments_lexer": "ipython3",
   "version": "3.8.8"
  }
 },
 "nbformat": 4,
 "nbformat_minor": 5
}
