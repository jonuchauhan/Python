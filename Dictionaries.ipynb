{
 "cells": [
  {
   "cell_type": "code",
   "execution_count": 22,
   "id": "9ef4d50b",
   "metadata": {},
   "outputs": [],
   "source": [
    "\"\"\"Dictionary represent a group of elements arranged in form of key value pairs\"\"\"\n",
    "a={'name':\"varun\",\"Dept\":\"HR\",\"Salary\":2000 }"
   ]
  },
  {
   "cell_type": "code",
   "execution_count": 23,
   "id": "92b04a3a",
   "metadata": {},
   "outputs": [
    {
     "name": "stdout",
     "output_type": "stream",
     "text": [
      "{'name': 'varun', 'Dept': 'HR', 'Salary': 2000}\n"
     ]
    }
   ],
   "source": [
    "print(a)"
   ]
  },
  {
   "cell_type": "code",
   "execution_count": 24,
   "id": "5509bf70",
   "metadata": {},
   "outputs": [
    {
     "name": "stdout",
     "output_type": "stream",
     "text": [
      "name\n",
      "Dept\n",
      "Salary\n"
     ]
    }
   ],
   "source": [
    "#iterate through keys of dictionary\n",
    "\n",
    "for key in a.keys():\n",
    "    print(key)"
   ]
  },
  {
   "cell_type": "code",
   "execution_count": 25,
   "id": "0e6cad99",
   "metadata": {},
   "outputs": [
    {
     "name": "stdout",
     "output_type": "stream",
     "text": [
      "varun\n",
      "HR\n",
      "2000\n"
     ]
    }
   ],
   "source": [
    "#iterate through values of dictionary\n",
    "\n",
    "for key in a.values():\n",
    "    print(key)"
   ]
  },
  {
   "cell_type": "code",
   "execution_count": 26,
   "id": "8241b642",
   "metadata": {},
   "outputs": [
    {
     "name": "stdout",
     "output_type": "stream",
     "text": [
      "key :- name and value is varun\n",
      "key :- Dept and value is HR\n",
      "key :- Salary and value is 2000\n"
     ]
    }
   ],
   "source": [
    "#iterate through key and values of dictionary\n",
    "\n",
    "for item in a.items():\n",
    "    print(f\"key :- {item[0]} and value is {item[1]}\")"
   ]
  },
  {
   "cell_type": "code",
   "execution_count": 27,
   "id": "cdee44eb",
   "metadata": {},
   "outputs": [
    {
     "name": "stdout",
     "output_type": "stream",
     "text": [
      "{'name': 'karan', 'Dept': 'HR', 'Salary': 2000}\n"
     ]
    }
   ],
   "source": [
    "#changing values of a dictionary\n",
    "\n",
    "a[\"name\"]=\"karan\"\n",
    "print(a)"
   ]
  },
  {
   "cell_type": "code",
   "execution_count": 28,
   "id": "e1b208ae",
   "metadata": {},
   "outputs": [
    {
     "name": "stdout",
     "output_type": "stream",
     "text": [
      "{'Dept': 'HR', 'Salary': 2000}\n"
     ]
    }
   ],
   "source": [
    "#remove element by key or value \n",
    "a.pop(\"name\") \n",
    "print(a)"
   ]
  },
  {
   "cell_type": "code",
   "execution_count": 33,
   "id": "48b48f35",
   "metadata": {},
   "outputs": [
    {
     "data": {
      "text/plain": [
       "{'Dept': 'HR', 'Salary': 2000}"
      ]
     },
     "execution_count": 33,
     "metadata": {},
     "output_type": "execute_result"
    }
   ],
   "source": [
    "sorted(a.items()) # it will retrun a sorted list that can be converted to a dictionary by the using dict keyword\n",
    "\n",
    "dict(sorted(a.items()))"
   ]
  },
  {
   "cell_type": "code",
   "execution_count": null,
   "id": "a247710b",
   "metadata": {},
   "outputs": [],
   "source": []
  }
 ],
 "metadata": {
  "kernelspec": {
   "display_name": "Python 3",
   "language": "python",
   "name": "python3"
  },
  "language_info": {
   "codemirror_mode": {
    "name": "ipython",
    "version": 3
   },
   "file_extension": ".py",
   "mimetype": "text/x-python",
   "name": "python",
   "nbconvert_exporter": "python",
   "pygments_lexer": "ipython3",
   "version": "3.8.8"
  }
 },
 "nbformat": 4,
 "nbformat_minor": 5
}
