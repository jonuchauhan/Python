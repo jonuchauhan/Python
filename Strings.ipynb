{
 "cells": [
  {
   "cell_type": "code",
   "execution_count": 1,
   "id": "57b63765",
   "metadata": {},
   "outputs": [
    {
     "name": "stdout",
     "output_type": "stream",
     "text": [
      "hello world\n"
     ]
    }
   ],
   "source": [
    "\"\"\"Strings are the sequences of characters\"\"\"\n",
    "\n",
    "a=\"hello world\"\n",
    "print(a)"
   ]
  },
  {
   "cell_type": "code",
   "execution_count": 3,
   "id": "39832a29",
   "metadata": {},
   "outputs": [
    {
     "name": "stdout",
     "output_type": "stream",
     "text": [
      "h\n",
      "e\n",
      "l\n",
      "l\n",
      "o\n",
      " \n",
      "w\n",
      "o\n",
      "r\n",
      "l\n",
      "d\n"
     ]
    }
   ],
   "source": [
    "#iterate the string \n",
    "\n",
    "a=\"hello world\"\n",
    "\n",
    "for char in a:\n",
    "    print(char)"
   ]
  },
  {
   "cell_type": "code",
   "execution_count": 6,
   "id": "d722b641",
   "metadata": {},
   "outputs": [
    {
     "name": "stdout",
     "output_type": "stream",
     "text": [
      "ell\n",
      "hell\n",
      "ell\n",
      "el\n",
      "hlowrd\n"
     ]
    }
   ],
   "source": [
    "#positions in string\n",
    "#String = \"HELLOWORLD\"\n",
    "\n",
    "#  0   1   2  3  4   5  6  7  8  9   \n",
    "#  H   E   L  L  O   W  O  R  L  D\n",
    "# -10 -9  -8 -7 -6  -5 -4 -3 -2 -1\n",
    "\n",
    "#slicing of a string\n",
    "#[start:stop:stepsize]\n",
    "a=\"hello world\"\n",
    "print(a[1:4]) # from first index to 4\n",
    "print(a[:4]) # from first to 4 index\n",
    "print(a[1:4:1]) # from first to 4th index with step size of 1\n",
    "print(a[1:4:2]) # from first to 4thindex with step size of 2\n",
    "print(a[::2])# start to finnish with step size of 2"
   ]
  },
  {
   "cell_type": "code",
   "execution_count": 11,
   "id": "f8a1141c",
   "metadata": {},
   "outputs": [
    {
     "name": "stdout",
     "output_type": "stream",
     "text": [
      "HELLO WORLD\n",
      "hello world\n"
     ]
    }
   ],
   "source": [
    "#case change\n",
    "print(a.upper())\n",
    "print(a.lower())"
   ]
  },
  {
   "cell_type": "code",
   "execution_count": 16,
   "id": "ac778e55",
   "metadata": {},
   "outputs": [
    {
     "name": "stdout",
     "output_type": "stream",
     "text": [
      "  hello world\n",
      "hello world \n",
      "hello world\n",
      "hello world\n"
     ]
    }
   ],
   "source": [
    "#removing spaces from string\n",
    "a=\"  hello world \"\n",
    "print(a.rstrip())\n",
    "print(a.lstrip())\n",
    "print(a.rstrip().lstrip()) # or\n",
    "print(a.strip())"
   ]
  },
  {
   "cell_type": "code",
   "execution_count": 23,
   "id": "c2ddc131",
   "metadata": {},
   "outputs": [
    {
     "name": "stdout",
     "output_type": "stream",
     "text": [
      "python is present at 13th location in string :  hello to all python learners\n"
     ]
    }
   ],
   "source": [
    "# finding substring in string \n",
    "\n",
    "#find(substring, beginning,ending)\n",
    "\n",
    "a=\"hello to all python learners\"\n",
    "pos=a.find(\"python\",0,len(a))\n",
    "print(f\"python is present at {pos}th location in string :  {a}\")\n"
   ]
  },
  {
   "cell_type": "code",
   "execution_count": 25,
   "id": "43222275",
   "metadata": {},
   "outputs": [
    {
     "data": {
      "text/plain": [
       "'hello python'"
      ]
     },
     "execution_count": 25,
     "metadata": {},
     "output_type": "execute_result"
    }
   ],
   "source": [
    "#replacing a string with another string\n",
    "#repace(old string , new string)\n",
    "a=\"hello world\"\n",
    "a.replace(\"world\",\"python\")"
   ]
  },
  {
   "cell_type": "code",
   "execution_count": 33,
   "id": "3f782084",
   "metadata": {},
   "outputs": [
    {
     "name": "stdout",
     "output_type": "stream",
     "text": [
      "['1', '2', '3', '4', '5', '6']\n"
     ]
    }
   ],
   "source": [
    "#splitting in python \n",
    "#split method is used to split a string into pieces and the return type is a list\n",
    "a=\"1 2 3 4 5 6\"\n",
    "b=a.split(\" \")\n",
    "print(b)"
   ]
  },
  {
   "cell_type": "code",
   "execution_count": 37,
   "id": "7209035d",
   "metadata": {},
   "outputs": [
    {
     "data": {
      "text/plain": [
       "'123456'"
      ]
     },
     "execution_count": 37,
     "metadata": {},
     "output_type": "execute_result"
    }
   ],
   "source": [
    "#join \n",
    "\"when a group of strings are given it ispossible to join them all and make a single string\"\n",
    "\n",
    "#sperator.join(str)\n",
    "\"\".join(b)\n",
    "\n",
    "#seperator is used represent the character to be used between the strings in the output"
   ]
  },
  {
   "cell_type": "code",
   "execution_count": 39,
   "id": "c16d2d9c",
   "metadata": {},
   "outputs": [
    {
     "name": "stdout",
     "output_type": "stream",
     "text": [
      "True\n",
      "False\n"
     ]
    }
   ],
   "source": [
    "#checking staring and ending of  string \n",
    "#return type is boolean \n",
    "a=\"hello world\"\n",
    "print(a.startswith(\"hello\") )\n",
    "print(a.endswith(\"python\"))"
   ]
  },
  {
   "cell_type": "code",
   "execution_count": 44,
   "id": "420154a1",
   "metadata": {},
   "outputs": [
    {
     "data": {
      "text/plain": [
       "['d', 'l', 'o', 'r', 'w']"
      ]
     },
     "execution_count": 44,
     "metadata": {},
     "output_type": "execute_result"
    }
   ],
   "source": [
    "#sorting a string\n",
    "#for sorting we use sorted method which return the characters in a sorted order in form of a list\n",
    "a=\"world\"\n",
    "sorted(a)"
   ]
  },
  {
   "cell_type": "code",
   "execution_count": null,
   "id": "dc011663",
   "metadata": {},
   "outputs": [],
   "source": []
  }
 ],
 "metadata": {
  "kernelspec": {
   "display_name": "Python 3",
   "language": "python",
   "name": "python3"
  },
  "language_info": {
   "codemirror_mode": {
    "name": "ipython",
    "version": 3
   },
   "file_extension": ".py",
   "mimetype": "text/x-python",
   "name": "python",
   "nbconvert_exporter": "python",
   "pygments_lexer": "ipython3",
   "version": "3.8.8"
  }
 },
 "nbformat": 4,
 "nbformat_minor": 5
}
