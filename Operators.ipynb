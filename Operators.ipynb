{
 "cells": [
  {
   "cell_type": "code",
   "execution_count": 1,
   "id": "7f0774ba",
   "metadata": {},
   "outputs": [
    {
     "data": {
      "text/plain": [
       "'Operators are used to  perform operations on operands \\n   x=10\\n   y=20\\n   x and y are called operands and for example in  x + y  , + is operator \\n   Types of operators\\n\\n   Arithmetic\\n   Assignment\\n   Unary Minus\\n   Relationsal\\n   Logical\\n   Boolean\\n   Bitwise\\n   Membership\\n   Identity \\n\\n'"
      ]
     },
     "execution_count": 1,
     "metadata": {},
     "output_type": "execute_result"
    }
   ],
   "source": [
    "# operator\n",
    "\"\"\"Operators are used to  perform operations on operands \n",
    "   x=10\n",
    "   y=20\n",
    "   x and y are called operands and for example in  x + y  , + is operator \n",
    "   Types of operators\n",
    "\n",
    "   Arithmetic\n",
    "   Assignment\n",
    "   Unary Minus\n",
    "   Relationsal\n",
    "   Logical\n",
    "   Boolean\n",
    "   Bitwise\n",
    "   Membership\n",
    "   Identity \n",
    "\n",
    "\"\"\""
   ]
  },
  {
   "cell_type": "code",
   "execution_count": 5,
   "id": "a8c1590e",
   "metadata": {},
   "outputs": [
    {
     "name": "stdout",
     "output_type": "stream",
     "text": [
      "addition operator 30\n",
      "subtraction operator -10\n",
      "multiplication operator 200\n",
      "divison operator 0.5\n",
      "modulus operator 10\n",
      "exponent operator 100000000000000000000\n",
      "integer division operator 0\n"
     ]
    }
   ],
   "source": [
    "#Arithmetic operators\n",
    "a=10\n",
    "b=20\n",
    "\n",
    "print(f\"addition operator {a+b}\")\n",
    "print(f\"subtraction operator {a-b}\")\n",
    "print(f\"multiplication operator {a*b}\")\n",
    "print(f\"divison operator {a/b}\")\n",
    "print(f\"modulus operator {a%b}\")\n",
    "print(f\"exponent operator {a**b}\")\n",
    "print(f\"integer division operator {a//b}\")\n",
    "\n",
    "\n"
   ]
  },
  {
   "cell_type": "code",
   "execution_count": 13,
   "id": "f97004c1",
   "metadata": {},
   "outputs": [
    {
     "name": "stdout",
     "output_type": "stream",
     "text": [
      "Assignment Addition operator 30\n"
     ]
    }
   ],
   "source": [
    "#Assignment operators\n",
    "a=10\n",
    "b=20\n",
    "x=1\n",
    "c=a+b\n",
    "print(f\"Assignment Addition operator {c}\") # it is used to assign the addition result to left operand\n"
   ]
  },
  {
   "cell_type": "code",
   "execution_count": 14,
   "id": "9498a028",
   "metadata": {},
   "outputs": [
    {
     "name": "stdout",
     "output_type": "stream",
     "text": [
      "True\n",
      "False\n",
      "True\n",
      "False\n",
      "False\n",
      "True\n"
     ]
    }
   ],
   "source": [
    "#relational operators\n",
    "\"\"\"These operators are used to compare two quantities\n",
    "   <,>,=>,<=,==,!=\n",
    "   return type of these operators are boolean \n",
    "\"\"\"\n",
    "\n",
    "a=10\n",
    "b=20\n",
    "print(a<b)\n",
    "print(a>b)\n",
    "print(a<=b)\n",
    "print(a>=b)\n",
    "print(a==b)\n",
    "print(a!=b)\n"
   ]
  },
  {
   "cell_type": "code",
   "execution_count": 18,
   "id": "56ed9254",
   "metadata": {},
   "outputs": [
    {
     "name": "stdout",
     "output_type": "stream",
     "text": [
      "True\n",
      "True\n",
      "False\n"
     ]
    }
   ],
   "source": [
    "#logical operators\n",
    "\"\"\"These operators are used to check the conditions\n",
    "   i.e if x ==1 and y==2 it mean x should bw 1 and y should be 2 then it will print true\n",
    "   and \n",
    "   or\n",
    "   not\n",
    "   return type of these operators are boolean \n",
    "\"\"\"\n",
    "\n",
    "x=10\n",
    "y=20\n",
    "\n",
    "print(x==10  and y==20) # it will return true or both conditions are true \n",
    "print(x==10  or y==30) # it will return true if only ine condition is true\n",
    "print(not x==10) # it will return just opposite of the result, as x=10 and it\n",
    "                #will return true and the result is just switched to opposite due to not operator\n"
   ]
  },
  {
   "cell_type": "code",
   "execution_count": 19,
   "id": "b2389619",
   "metadata": {},
   "outputs": [
    {
     "name": "stdout",
     "output_type": "stream",
     "text": [
      "20\n",
      "True\n",
      "False\n"
     ]
    }
   ],
   "source": [
    "#boolean operators \n",
    "\n",
    "\"\"\"these operators are just like logical operators but these are used on boolean literals\"\"\"\n",
    "x=True\n",
    "Y=False\n",
    "\n",
    "print(x and y)\n",
    "print(x or y)\n",
    "print(not y)\n"
   ]
  },
  {
   "cell_type": "code",
   "execution_count": 22,
   "id": "31dbc298",
   "metadata": {},
   "outputs": [
    {
     "name": "stdout",
     "output_type": "stream",
     "text": [
      "-11\n",
      "10\n",
      "11\n",
      "1\n",
      "5\n",
      "20\n"
     ]
    }
   ],
   "source": [
    "#bitwise operators \n",
    "\"\"\"These operators are used to act upon bits either 0 or 1\n",
    "   Bitwise  Complement  ~\n",
    "   Bitwise And &\n",
    "   Bitwise Or  |\n",
    "   Bitwise xor  ^\n",
    "   Bitwise left shift   >>\n",
    "   Bitwise right shift  <<\n",
    "\"\"\"\n",
    "\n",
    "\n",
    "y=10\n",
    "z=11\n",
    "\n",
    "print(~y) # representation of 10 is  0000 1010 and its complement is 1111 0101 which is -11 in decimal\n",
    "print(y&z)\n",
    "print(y|z)\n",
    "print(y^z)\n",
    "print(y>>1)\n",
    "print(y<<1)\n"
   ]
  },
  {
   "cell_type": "code",
   "execution_count": 2,
   "id": "1ad45179",
   "metadata": {},
   "outputs": [
    {
     "name": "stdout",
     "output_type": "stream",
     "text": [
      "False\n",
      "True\n"
     ]
    }
   ],
   "source": [
    "# membership operator\n",
    "\n",
    "\"\"\"These operator is used to check the presence of member in a sequence\n",
    "in \n",
    "Not in \n",
    "\"\"\"\n",
    "\n",
    "a = [1, 2, 3, 4, 5]\n",
    "\n",
    "print(10 in a)  # it wil return false as there is given number is not part of a\n",
    "\n",
    "print(10 not in a)"
   ]
  },
  {
   "cell_type": "code",
   "execution_count": 3,
   "id": "6e5475b7",
   "metadata": {},
   "outputs": [
    {
     "name": "stdout",
     "output_type": "stream",
     "text": [
      "True\n",
      "140720599869840\n",
      "140720599869840\n"
     ]
    }
   ],
   "source": [
    "# identity operators\n",
    "\"\"\"\n",
    "These operator is used to compare the memory locations of two objects \n",
    "i.e \n",
    "is \n",
    "is not\n",
    "\n",
    "\"\"\"\n",
    "a = 20\n",
    "b = 20\n",
    "\n",
    "print(a is b)\n",
    "\n",
    "print(id(a))\n",
    "print(id(b))\n",
    "\n",
    "# it shows python is memory effecient as bot a and b tagged to same memory location\n"
   ]
  },
  {
   "cell_type": "code",
   "execution_count": null,
   "id": "46cf426c",
   "metadata": {},
   "outputs": [],
   "source": []
  }
 ],
 "metadata": {
  "kernelspec": {
   "display_name": "Python 3",
   "language": "python",
   "name": "python3"
  },
  "language_info": {
   "codemirror_mode": {
    "name": "ipython",
    "version": 3
   },
   "file_extension": ".py",
   "mimetype": "text/x-python",
   "name": "python",
   "nbconvert_exporter": "python",
   "pygments_lexer": "ipython3",
   "version": "3.8.8"
  }
 },
 "nbformat": 4,
 "nbformat_minor": 5
}
